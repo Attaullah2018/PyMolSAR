{
 "cells": [
  {
   "cell_type": "markdown",
   "metadata": {},
   "source": [
    "# Calculating Molecular Descriptors"
   ]
  },
  {
   "cell_type": "markdown",
   "metadata": {},
   "source": [
    "#### Imports"
   ]
  },
  {
   "cell_type": "code",
   "execution_count": 1,
   "metadata": {
    "collapsed": true
   },
   "outputs": [],
   "source": [
    "try:\n",
    "    import urllib.request as urllib2\n",
    "except ImportError:\n",
    "    import urllib2\n",
    "import os.path as op\n",
    "import inspect\n",
    "import pandas as pd"
   ]
  },
  {
   "cell_type": "markdown",
   "metadata": {},
   "source": [
    "#### Data"
   ]
  },
  {
   "cell_type": "code",
   "execution_count": 3,
   "metadata": {},
   "outputs": [],
   "source": [
    "df_x = pd.read_csv('SMILES.csv')"
   ]
  },
  {
   "cell_type": "markdown",
   "metadata": {},
   "source": [
    "#### Topology Descriptors"
   ]
  },
  {
   "cell_type": "code",
   "execution_count": 7,
   "metadata": {},
   "outputs": [
    {
     "ename": "SyntaxError",
     "evalue": "invalid syntax (<ipython-input-7-c0131bc53b66>, line 1)",
     "output_type": "error",
     "traceback": [
      "\u001b[0;36m  File \u001b[0;32m\"<ipython-input-7-c0131bc53b66>\"\u001b[0;36m, line \u001b[0;32m1\u001b[0m\n\u001b[0;31m    from 'small-molecule-design-toolkit' import topology\u001b[0m\n\u001b[0m                                       ^\u001b[0m\n\u001b[0;31mSyntaxError\u001b[0m\u001b[0;31m:\u001b[0m invalid syntax\n"
     ]
    }
   ],
   "source": [
    "from 'small-molecule-design-toolkit' import topology\n",
    "topology_descriptors = topology.GetTopology(df_x.head())\n",
    "topology_descriptors.to_csv('Topology_Descriptors.csv',encoding='utf-8')\n",
    "topology_descriptors.head()"
   ]
  },
  {
   "cell_type": "markdown",
   "metadata": {},
   "source": [
    "#### Constitutional Descriptors"
   ]
  },
  {
   "cell_type": "code",
   "execution_count": null,
   "metadata": {
    "collapsed": true
   },
   "outputs": [],
   "source": [
    "import constitution\n",
    "constitution_descriptors = constitution.GetConstitutional(df_x)\n",
    "constitution_descriptors.to_csv('Constitutional_Descriptors.csv',encoding='utf-8')\n",
    "constitution_descriptors.head()"
   ]
  },
  {
   "cell_type": "markdown",
   "metadata": {},
   "source": [
    "#### Basak Descriptors"
   ]
  },
  {
   "cell_type": "code",
   "execution_count": 5,
   "metadata": {
    "collapsed": true
   },
   "outputs": [],
   "source": [
    "from rdkit import Chem\n",
    "import basak\n",
    "mol = Chem.MolFromSmiles(df_x['SMILES'][0])"
   ]
  },
  {
   "cell_type": "markdown",
   "metadata": {},
   "source": [
    "basak.GetBasak(mol)"
   ]
  },
  {
   "cell_type": "markdown",
   "metadata": {},
   "source": [
    "#### Burden Eigenvalue Descriptors"
   ]
  },
  {
   "cell_type": "code",
   "execution_count": null,
   "metadata": {
    "collapsed": true
   },
   "outputs": [],
   "source": [
    "import bcut\n",
    "burden_descriptors = bcut.GetBurden(df_x)\n",
    "burden_descriptors.to_csv('Burden_Descriptors.csv',encoding='utf-8')\n",
    "burden_descriptors.head()"
   ]
  },
  {
   "cell_type": "markdown",
   "metadata": {},
   "source": [
    "#### CATS2D Descriptors"
   ]
  },
  {
   "cell_type": "code",
   "execution_count": null,
   "metadata": {
    "collapsed": true
   },
   "outputs": [],
   "source": [
    "import cats2d\n",
    "cats2d_descriptors = cats2d.CATS2D(df_x)\n",
    "cats2d_descriptors.to_csv('CATS2D_Descriptors.csv',encoding='utf-8')\n",
    "cats2d_descriptors.head()"
   ]
  },
  {
   "cell_type": "markdown",
   "metadata": {},
   "source": [
    "#### Charge Descriptors"
   ]
  },
  {
   "cell_type": "code",
   "execution_count": null,
   "metadata": {
    "collapsed": true
   },
   "outputs": [],
   "source": [
    "import charge\n",
    "charge_descriptors = charge.GetCharge(df_x)\n",
    "charge_descriptors.to_csv('Charge_Descriptors.csv',encoding='utf-8')\n",
    "charge_descriptors.head()"
   ]
  },
  {
   "cell_type": "markdown",
   "metadata": {},
   "source": [
    "#### Connectivity Descriptors"
   ]
  },
  {
   "cell_type": "code",
   "execution_count": null,
   "metadata": {
    "collapsed": true
   },
   "outputs": [],
   "source": [
    "import connectivity\n",
    "connectivity_descriptors = connectivity.GetConnectivity(df_x)\n",
    "connectivity_descriptors.to_csv('Connectivity_Descriptors.csv',encoding='utf-8')\n",
    "connectivity_descriptors.head()"
   ]
  },
  {
   "cell_type": "markdown",
   "metadata": {},
   "source": [
    "#### Estate Descriptors"
   ]
  },
  {
   "cell_type": "code",
   "execution_count": null,
   "metadata": {
    "collapsed": true
   },
   "outputs": [],
   "source": [
    "import estate\n",
    "estate_descriptors = estate.GetEstate(df_x)\n",
    "estate_descriptors.to_csv('Estate_Descriptors.csv',encoding='utf-8')\n",
    "estate_descriptors.head()"
   ]
  }
 ],
 "metadata": {
  "kernelspec": {
   "display_name": "Python 3",
   "language": "python",
   "name": "python3"
  },
  "language_info": {
   "codemirror_mode": {
    "name": "ipython",
    "version": 3
   },
   "file_extension": ".py",
   "mimetype": "text/x-python",
   "name": "python",
   "nbconvert_exporter": "python",
   "pygments_lexer": "ipython3",
   "version": "3.6.2"
  }
 },
 "nbformat": 4,
 "nbformat_minor": 2
}
