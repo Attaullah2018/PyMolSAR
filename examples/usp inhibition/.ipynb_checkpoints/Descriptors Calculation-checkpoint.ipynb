{
 "cells": [
  {
   "cell_type": "markdown",
   "metadata": {},
   "source": [
    "# Calculating Molecular Descriptors"
   ]
  },
  {
   "cell_type": "markdown",
   "metadata": {},
   "source": [
    "#### Imports"
   ]
  },
  {
   "cell_type": "code",
   "execution_count": 1,
   "metadata": {
    "collapsed": true
   },
   "outputs": [],
   "source": [
    "try:\n",
    "    import urllib.request as urllib2\n",
    "except ImportError:\n",
    "    import urllib2\n",
    "import os.path as op\n",
    "import inspect\n",
    "import pandas as pd"
   ]
  },
  {
   "cell_type": "markdown",
   "metadata": {},
   "source": [
    "#### Data"
   ]
  },
  {
   "cell_type": "code",
   "execution_count": 2,
   "metadata": {
    "collapsed": true
   },
   "outputs": [],
   "source": [
    "df_x = pd.read_csv('SMILES.csv')"
   ]
  },
  {
   "cell_type": "markdown",
   "metadata": {},
   "source": [
    "#### Topology Descriptors"
   ]
  },
  {
   "cell_type": "code",
   "execution_count": 3,
   "metadata": {},
   "outputs": [
    {
     "data": {
      "text/html": [
       "<div>\n",
       "<style>\n",
       "    .dataframe thead tr:only-child th {\n",
       "        text-align: right;\n",
       "    }\n",
       "\n",
       "    .dataframe thead th {\n",
       "        text-align: left;\n",
       "    }\n",
       "\n",
       "    .dataframe tbody tr th {\n",
       "        vertical-align: top;\n",
       "    }\n",
       "</style>\n",
       "<table border=\"1\" class=\"dataframe\">\n",
       "  <thead>\n",
       "    <tr style=\"text-align: right;\">\n",
       "      <th></th>\n",
       "      <th>AW</th>\n",
       "      <th>Arto</th>\n",
       "      <th>BertzCT</th>\n",
       "      <th>DZ</th>\n",
       "      <th>GMTI</th>\n",
       "      <th>Geto</th>\n",
       "      <th>Hato</th>\n",
       "      <th>Ipc</th>\n",
       "      <th>J</th>\n",
       "      <th>MZM1</th>\n",
       "      <th>...</th>\n",
       "      <th>Thara</th>\n",
       "      <th>Tigdi</th>\n",
       "      <th>Tsch</th>\n",
       "      <th>W</th>\n",
       "      <th>Xu</th>\n",
       "      <th>ZM1</th>\n",
       "      <th>ZM2</th>\n",
       "      <th>diametert</th>\n",
       "      <th>petitjeant</th>\n",
       "      <th>radiust</th>\n",
       "    </tr>\n",
       "  </thead>\n",
       "  <tbody>\n",
       "    <tr>\n",
       "      <th>0</th>\n",
       "      <td>3.077</td>\n",
       "      <td>2.0</td>\n",
       "      <td>2.579</td>\n",
       "      <td>31.333</td>\n",
       "      <td>2.911</td>\n",
       "      <td>1.791</td>\n",
       "      <td>1.592</td>\n",
       "      <td>2.830</td>\n",
       "      <td>3.267</td>\n",
       "      <td>6.306</td>\n",
       "      <td>...</td>\n",
       "      <td>34.3</td>\n",
       "      <td>3.053</td>\n",
       "      <td>953.0</td>\n",
       "      <td>240.0</td>\n",
       "      <td>12.857</td>\n",
       "      <td>62</td>\n",
       "      <td>70</td>\n",
       "      <td>6.0</td>\n",
       "      <td>0.5</td>\n",
       "      <td>3.0</td>\n",
       "    </tr>\n",
       "    <tr>\n",
       "      <th>1</th>\n",
       "      <td>2.655</td>\n",
       "      <td>2.0</td>\n",
       "      <td>2.466</td>\n",
       "      <td>26.000</td>\n",
       "      <td>2.696</td>\n",
       "      <td>1.801</td>\n",
       "      <td>1.610</td>\n",
       "      <td>2.440</td>\n",
       "      <td>3.274</td>\n",
       "      <td>5.194</td>\n",
       "      <td>...</td>\n",
       "      <td>26.8</td>\n",
       "      <td>2.837</td>\n",
       "      <td>595.0</td>\n",
       "      <td>146.0</td>\n",
       "      <td>10.735</td>\n",
       "      <td>52</td>\n",
       "      <td>59</td>\n",
       "      <td>5.0</td>\n",
       "      <td>0.4</td>\n",
       "      <td>3.0</td>\n",
       "    </tr>\n",
       "    <tr>\n",
       "      <th>2</th>\n",
       "      <td>2.655</td>\n",
       "      <td>2.0</td>\n",
       "      <td>2.108</td>\n",
       "      <td>27.000</td>\n",
       "      <td>2.693</td>\n",
       "      <td>1.801</td>\n",
       "      <td>1.610</td>\n",
       "      <td>2.446</td>\n",
       "      <td>2.512</td>\n",
       "      <td>5.194</td>\n",
       "      <td>...</td>\n",
       "      <td>26.8</td>\n",
       "      <td>2.837</td>\n",
       "      <td>593.0</td>\n",
       "      <td>146.0</td>\n",
       "      <td>10.722</td>\n",
       "      <td>52</td>\n",
       "      <td>59</td>\n",
       "      <td>5.0</td>\n",
       "      <td>0.4</td>\n",
       "      <td>3.0</td>\n",
       "    </tr>\n",
       "    <tr>\n",
       "      <th>3</th>\n",
       "      <td>2.764</td>\n",
       "      <td>2.0</td>\n",
       "      <td>2.466</td>\n",
       "      <td>26.000</td>\n",
       "      <td>2.717</td>\n",
       "      <td>1.801</td>\n",
       "      <td>1.610</td>\n",
       "      <td>2.434</td>\n",
       "      <td>3.152</td>\n",
       "      <td>5.194</td>\n",
       "      <td>...</td>\n",
       "      <td>26.5</td>\n",
       "      <td>2.803</td>\n",
       "      <td>619.0</td>\n",
       "      <td>152.0</td>\n",
       "      <td>10.871</td>\n",
       "      <td>52</td>\n",
       "      <td>58</td>\n",
       "      <td>6.0</td>\n",
       "      <td>0.5</td>\n",
       "      <td>3.0</td>\n",
       "    </tr>\n",
       "    <tr>\n",
       "      <th>4</th>\n",
       "      <td>2.655</td>\n",
       "      <td>2.0</td>\n",
       "      <td>2.471</td>\n",
       "      <td>25.500</td>\n",
       "      <td>2.696</td>\n",
       "      <td>1.801</td>\n",
       "      <td>1.610</td>\n",
       "      <td>2.440</td>\n",
       "      <td>3.274</td>\n",
       "      <td>5.194</td>\n",
       "      <td>...</td>\n",
       "      <td>26.8</td>\n",
       "      <td>2.837</td>\n",
       "      <td>595.0</td>\n",
       "      <td>146.0</td>\n",
       "      <td>10.735</td>\n",
       "      <td>52</td>\n",
       "      <td>59</td>\n",
       "      <td>5.0</td>\n",
       "      <td>0.4</td>\n",
       "      <td>3.0</td>\n",
       "    </tr>\n",
       "  </tbody>\n",
       "</table>\n",
       "<p>5 rows × 25 columns</p>\n",
       "</div>"
      ],
      "text/plain": [
       "      AW  Arto  BertzCT      DZ   GMTI   Geto   Hato    Ipc      J   MZM1  \\\n",
       "0  3.077   2.0    2.579  31.333  2.911  1.791  1.592  2.830  3.267  6.306   \n",
       "1  2.655   2.0    2.466  26.000  2.696  1.801  1.610  2.440  3.274  5.194   \n",
       "2  2.655   2.0    2.108  27.000  2.693  1.801  1.610  2.446  2.512  5.194   \n",
       "3  2.764   2.0    2.466  26.000  2.717  1.801  1.610  2.434  3.152  5.194   \n",
       "4  2.655   2.0    2.471  25.500  2.696  1.801  1.610  2.440  3.274  5.194   \n",
       "\n",
       "    ...     Thara  Tigdi   Tsch      W      Xu  ZM1  ZM2  diametert  \\\n",
       "0   ...      34.3  3.053  953.0  240.0  12.857   62   70        6.0   \n",
       "1   ...      26.8  2.837  595.0  146.0  10.735   52   59        5.0   \n",
       "2   ...      26.8  2.837  593.0  146.0  10.722   52   59        5.0   \n",
       "3   ...      26.5  2.803  619.0  152.0  10.871   52   58        6.0   \n",
       "4   ...      26.8  2.837  595.0  146.0  10.735   52   59        5.0   \n",
       "\n",
       "   petitjeant  radiust  \n",
       "0         0.5      3.0  \n",
       "1         0.4      3.0  \n",
       "2         0.4      3.0  \n",
       "3         0.5      3.0  \n",
       "4         0.4      3.0  \n",
       "\n",
       "[5 rows x 25 columns]"
      ]
     },
     "execution_count": 3,
     "metadata": {},
     "output_type": "execute_result"
    }
   ],
   "source": [
    "from smdt import topology\n",
    "topology_descriptors = topology.GetTopology(df_x.head())\n",
    "topology_descriptors.to_csv('Topology_Descriptors.csv',encoding='utf-8')\n",
    "topology_descriptors.head()"
   ]
  },
  {
   "cell_type": "markdown",
   "metadata": {},
   "source": [
    "#### Constitutional Descriptors"
   ]
  },
  {
   "cell_type": "code",
   "execution_count": 5,
   "metadata": {},
   "outputs": [
    {
     "ename": "KeyboardInterrupt",
     "evalue": "",
     "output_type": "error",
     "traceback": [
      "\u001b[0;31m---------------------------------------------------------------------------\u001b[0m",
      "\u001b[0;31mKeyboardInterrupt\u001b[0m                         Traceback (most recent call last)",
      "\u001b[0;32m<ipython-input-5-39cd5c6cb138>\u001b[0m in \u001b[0;36m<module>\u001b[0;34m()\u001b[0m\n\u001b[1;32m      1\u001b[0m \u001b[0;32mfrom\u001b[0m \u001b[0msmdt\u001b[0m \u001b[0;32mimport\u001b[0m \u001b[0mconstitution\u001b[0m\u001b[0;34m\u001b[0m\u001b[0m\n\u001b[0;32m----> 2\u001b[0;31m \u001b[0mconstitution_descriptors\u001b[0m \u001b[0;34m=\u001b[0m \u001b[0mconstitution\u001b[0m\u001b[0;34m.\u001b[0m\u001b[0mGetConstitutional\u001b[0m\u001b[0;34m(\u001b[0m\u001b[0mdf_x\u001b[0m\u001b[0;34m)\u001b[0m\u001b[0;34m\u001b[0m\u001b[0m\n\u001b[0m\u001b[1;32m      3\u001b[0m \u001b[0mconstitution_descriptors\u001b[0m\u001b[0;34m.\u001b[0m\u001b[0mto_csv\u001b[0m\u001b[0;34m(\u001b[0m\u001b[0;34m'Constitutional_Descriptors.csv'\u001b[0m\u001b[0;34m,\u001b[0m\u001b[0mencoding\u001b[0m\u001b[0;34m=\u001b[0m\u001b[0;34m'utf-8'\u001b[0m\u001b[0;34m)\u001b[0m\u001b[0;34m\u001b[0m\u001b[0m\n\u001b[1;32m      4\u001b[0m \u001b[0mconstitution_descriptors\u001b[0m\u001b[0;34m.\u001b[0m\u001b[0mhead\u001b[0m\u001b[0;34m(\u001b[0m\u001b[0;34m)\u001b[0m\u001b[0;34m\u001b[0m\u001b[0m\n",
      "\u001b[0;32m~/anaconda3/envs/my-rdkit-env/lib/python3.6/site-packages/smdt-1.0-py3.6.egg/smdt/constitution.py\u001b[0m in \u001b[0;36mGetConstitutional\u001b[0;34m(df_x)\u001b[0m\n\u001b[1;32m    679\u001b[0m     \u001b[0;32mfor\u001b[0m \u001b[0mm\u001b[0m \u001b[0;32min\u001b[0m \u001b[0mdf_x\u001b[0m\u001b[0;34m[\u001b[0m\u001b[0;34m'SMILES'\u001b[0m\u001b[0;34m]\u001b[0m\u001b[0;34m:\u001b[0m\u001b[0;34m\u001b[0m\u001b[0m\n\u001b[1;32m    680\u001b[0m         \u001b[0mmol\u001b[0m \u001b[0;34m=\u001b[0m \u001b[0mChem\u001b[0m\u001b[0;34m.\u001b[0m\u001b[0mMolFromSmiles\u001b[0m\u001b[0;34m(\u001b[0m\u001b[0mm\u001b[0m\u001b[0;34m)\u001b[0m\u001b[0;34m\u001b[0m\u001b[0m\n\u001b[0;32m--> 681\u001b[0;31m         \u001b[0mres\u001b[0m \u001b[0;34m=\u001b[0m \u001b[0mGetConstitutionalofMol\u001b[0m\u001b[0;34m(\u001b[0m\u001b[0mmol\u001b[0m\u001b[0;34m)\u001b[0m\u001b[0;34m\u001b[0m\u001b[0m\n\u001b[0m\u001b[1;32m    682\u001b[0m         \u001b[0;32mfor\u001b[0m \u001b[0mkey\u001b[0m \u001b[0;32min\u001b[0m \u001b[0m_constitutional\u001b[0m\u001b[0;34m.\u001b[0m\u001b[0mkeys\u001b[0m\u001b[0;34m(\u001b[0m\u001b[0;34m)\u001b[0m\u001b[0;34m:\u001b[0m\u001b[0;34m\u001b[0m\u001b[0m\n\u001b[1;32m    683\u001b[0m             \u001b[0mr\u001b[0m\u001b[0;34m[\u001b[0m\u001b[0mkey\u001b[0m\u001b[0;34m]\u001b[0m\u001b[0;34m.\u001b[0m\u001b[0mappend\u001b[0m\u001b[0;34m(\u001b[0m\u001b[0mres\u001b[0m\u001b[0;34m[\u001b[0m\u001b[0mkey\u001b[0m\u001b[0;34m]\u001b[0m\u001b[0;34m)\u001b[0m\u001b[0;34m\u001b[0m\u001b[0m\n",
      "\u001b[0;32m~/anaconda3/envs/my-rdkit-env/lib/python3.6/site-packages/smdt-1.0-py3.6.egg/smdt/constitution.py\u001b[0m in \u001b[0;36mGetConstitutionalofMol\u001b[0;34m(mol)\u001b[0m\n\u001b[1;32m    670\u001b[0m     \u001b[0mresult\u001b[0m \u001b[0;34m=\u001b[0m \u001b[0;34m{\u001b[0m\u001b[0;34m}\u001b[0m\u001b[0;34m\u001b[0m\u001b[0m\n\u001b[1;32m    671\u001b[0m     \u001b[0;32mfor\u001b[0m \u001b[0mDesLabel\u001b[0m \u001b[0;32min\u001b[0m \u001b[0m_constitutional\u001b[0m\u001b[0;34m.\u001b[0m\u001b[0mkeys\u001b[0m\u001b[0;34m(\u001b[0m\u001b[0;34m)\u001b[0m\u001b[0;34m:\u001b[0m\u001b[0;34m\u001b[0m\u001b[0m\n\u001b[0;32m--> 672\u001b[0;31m         \u001b[0mresult\u001b[0m\u001b[0;34m[\u001b[0m\u001b[0mDesLabel\u001b[0m\u001b[0;34m]\u001b[0m \u001b[0;34m=\u001b[0m \u001b[0mround\u001b[0m\u001b[0;34m(\u001b[0m\u001b[0m_constitutional\u001b[0m\u001b[0;34m[\u001b[0m\u001b[0mDesLabel\u001b[0m\u001b[0;34m]\u001b[0m\u001b[0;34m(\u001b[0m\u001b[0mmol\u001b[0m\u001b[0;34m)\u001b[0m\u001b[0;34m,\u001b[0m \u001b[0;36m3\u001b[0m\u001b[0;34m)\u001b[0m\u001b[0;34m\u001b[0m\u001b[0m\n\u001b[0m\u001b[1;32m    673\u001b[0m     \u001b[0;32mreturn\u001b[0m \u001b[0mresult\u001b[0m\u001b[0;34m\u001b[0m\u001b[0m\n\u001b[1;32m    674\u001b[0m \u001b[0;34m\u001b[0m\u001b[0m\n",
      "\u001b[0;32m~/anaconda3/envs/my-rdkit-env/lib/python3.6/site-packages/smdt-1.0-py3.6.egg/smdt/constitution.py\u001b[0m in \u001b[0;36mCalculateAromaticBondNumber\u001b[0;34m(mol)\u001b[0m\n\u001b[1;32m    520\u001b[0m     \u001b[0;32mfor\u001b[0m \u001b[0mbond\u001b[0m \u001b[0;32min\u001b[0m \u001b[0mmol\u001b[0m\u001b[0;34m.\u001b[0m\u001b[0mGetBonds\u001b[0m\u001b[0;34m(\u001b[0m\u001b[0;34m)\u001b[0m\u001b[0;34m:\u001b[0m\u001b[0;34m\u001b[0m\u001b[0m\n\u001b[1;32m    521\u001b[0m \u001b[0;34m\u001b[0m\u001b[0m\n\u001b[0;32m--> 522\u001b[0;31m         \u001b[0;32mif\u001b[0m \u001b[0mbond\u001b[0m\u001b[0;34m.\u001b[0m\u001b[0mGetBondType\u001b[0m\u001b[0;34m(\u001b[0m\u001b[0;34m)\u001b[0m\u001b[0;34m.\u001b[0m\u001b[0mname\u001b[0m \u001b[0;34m==\u001b[0m \u001b[0;34m'AROMATIC'\u001b[0m\u001b[0;34m:\u001b[0m\u001b[0;34m\u001b[0m\u001b[0m\n\u001b[0m\u001b[1;32m    523\u001b[0m             \u001b[0mi\u001b[0m \u001b[0;34m=\u001b[0m \u001b[0mi\u001b[0m \u001b[0;34m+\u001b[0m \u001b[0;36m1\u001b[0m\u001b[0;34m\u001b[0m\u001b[0m\n\u001b[1;32m    524\u001b[0m \u001b[0;34m\u001b[0m\u001b[0m\n",
      "\u001b[0;31mKeyboardInterrupt\u001b[0m: "
     ]
    }
   ],
   "source": [
    "from smdt import constitution\n",
    "constitution_descriptors = constitution.GetConstitutional(df_x)\n",
    "constitution_descriptors.to_csv('Constitutional_Descriptors.csv',encoding='utf-8')\n",
    "constitution_descriptors.head()"
   ]
  },
  {
   "cell_type": "markdown",
   "metadata": {},
   "source": [
    "#### Basak Descriptors"
   ]
  },
  {
   "cell_type": "code",
   "execution_count": 5,
   "metadata": {
    "collapsed": true
   },
   "outputs": [],
   "source": [
    "from rdkit import Chem\n",
    "import basak\n",
    "mol = Chem.MolFromSmiles(df_x['SMILES'][0])"
   ]
  },
  {
   "cell_type": "markdown",
   "metadata": {},
   "source": [
    "basak.GetBasak(mol)"
   ]
  },
  {
   "cell_type": "markdown",
   "metadata": {},
   "source": [
    "#### Burden Eigenvalue Descriptors"
   ]
  },
  {
   "cell_type": "code",
   "execution_count": 6,
   "metadata": {},
   "outputs": [
    {
     "ename": "ModuleNotFoundError",
     "evalue": "No module named 'AtomProperty'",
     "output_type": "error",
     "traceback": [
      "\u001b[0;31m---------------------------------------------------------------------------\u001b[0m",
      "\u001b[0;31mModuleNotFoundError\u001b[0m                       Traceback (most recent call last)",
      "\u001b[0;32m<ipython-input-6-b7b1706ee928>\u001b[0m in \u001b[0;36m<module>\u001b[0;34m()\u001b[0m\n\u001b[0;32m----> 1\u001b[0;31m \u001b[0;32mfrom\u001b[0m \u001b[0msmdt\u001b[0m \u001b[0;32mimport\u001b[0m \u001b[0mbcut\u001b[0m\u001b[0;34m\u001b[0m\u001b[0m\n\u001b[0m\u001b[1;32m      2\u001b[0m \u001b[0mburden_descriptors\u001b[0m \u001b[0;34m=\u001b[0m \u001b[0mbcut\u001b[0m\u001b[0;34m.\u001b[0m\u001b[0mGetBurden\u001b[0m\u001b[0;34m(\u001b[0m\u001b[0mdf_x\u001b[0m\u001b[0;34m)\u001b[0m\u001b[0;34m\u001b[0m\u001b[0m\n\u001b[1;32m      3\u001b[0m \u001b[0mburden_descriptors\u001b[0m\u001b[0;34m.\u001b[0m\u001b[0mto_csv\u001b[0m\u001b[0;34m(\u001b[0m\u001b[0;34m'Burden_Descriptors.csv'\u001b[0m\u001b[0;34m,\u001b[0m\u001b[0mencoding\u001b[0m\u001b[0;34m=\u001b[0m\u001b[0;34m'utf-8'\u001b[0m\u001b[0;34m)\u001b[0m\u001b[0;34m\u001b[0m\u001b[0m\n\u001b[1;32m      4\u001b[0m \u001b[0mburden_descriptors\u001b[0m\u001b[0;34m.\u001b[0m\u001b[0mhead\u001b[0m\u001b[0;34m(\u001b[0m\u001b[0;34m)\u001b[0m\u001b[0;34m\u001b[0m\u001b[0m\n",
      "\u001b[0;32m~/anaconda3/envs/my-rdkit-env/lib/python3.6/site-packages/smdt-1.0-py3.6.egg/smdt/bcut.py\u001b[0m in \u001b[0;36m<module>\u001b[0;34m()\u001b[0m\n\u001b[1;32m      5\u001b[0m \u001b[0;34m\u001b[0m\u001b[0m\n\u001b[1;32m      6\u001b[0m \u001b[0;32mfrom\u001b[0m \u001b[0mrdkit\u001b[0m \u001b[0;32mimport\u001b[0m \u001b[0mChem\u001b[0m\u001b[0;34m\u001b[0m\u001b[0m\n\u001b[0;32m----> 7\u001b[0;31m \u001b[0;32mfrom\u001b[0m \u001b[0mAtomProperty\u001b[0m \u001b[0;32mimport\u001b[0m \u001b[0mGetRelativeAtomicProperty\u001b[0m\u001b[0;34m\u001b[0m\u001b[0m\n\u001b[0m\u001b[1;32m      8\u001b[0m \u001b[0;32mimport\u001b[0m \u001b[0mnumpy\u001b[0m\u001b[0;34m\u001b[0m\u001b[0m\n\u001b[1;32m      9\u001b[0m \u001b[0;32mimport\u001b[0m \u001b[0mnumpy\u001b[0m\u001b[0;34m.\u001b[0m\u001b[0mlinalg\u001b[0m\u001b[0;34m\u001b[0m\u001b[0m\n",
      "\u001b[0;31mModuleNotFoundError\u001b[0m: No module named 'AtomProperty'"
     ]
    }
   ],
   "source": [
    "from smdt import bcut\n",
    "burden_descriptors = bcut.GetBurden(df_x)\n",
    "burden_descriptors.to_csv('Burden_Descriptors.csv',encoding='utf-8')\n",
    "burden_descriptors.head()"
   ]
  },
  {
   "cell_type": "markdown",
   "metadata": {},
   "source": [
    "#### CATS2D Descriptors"
   ]
  },
  {
   "cell_type": "code",
   "execution_count": 7,
   "metadata": {},
   "outputs": [
    {
     "ename": "KeyboardInterrupt",
     "evalue": "",
     "output_type": "error",
     "traceback": [
      "\u001b[0;31m---------------------------------------------------------------------------\u001b[0m",
      "\u001b[0;31mKeyboardInterrupt\u001b[0m                         Traceback (most recent call last)",
      "\u001b[0;32m<ipython-input-7-daaa063174fe>\u001b[0m in \u001b[0;36m<module>\u001b[0;34m()\u001b[0m\n\u001b[1;32m      1\u001b[0m \u001b[0;32mfrom\u001b[0m \u001b[0msmdt\u001b[0m \u001b[0;32mimport\u001b[0m \u001b[0mcats2d\u001b[0m\u001b[0;34m\u001b[0m\u001b[0m\n\u001b[0;32m----> 2\u001b[0;31m \u001b[0mcats2d_descriptors\u001b[0m \u001b[0;34m=\u001b[0m \u001b[0mcats2d\u001b[0m\u001b[0;34m.\u001b[0m\u001b[0mCATS2D\u001b[0m\u001b[0;34m(\u001b[0m\u001b[0mdf_x\u001b[0m\u001b[0;34m)\u001b[0m\u001b[0;34m\u001b[0m\u001b[0m\n\u001b[0m\u001b[1;32m      3\u001b[0m \u001b[0mcats2d_descriptors\u001b[0m\u001b[0;34m.\u001b[0m\u001b[0mto_csv\u001b[0m\u001b[0;34m(\u001b[0m\u001b[0;34m'CATS2D_Descriptors.csv'\u001b[0m\u001b[0;34m,\u001b[0m\u001b[0mencoding\u001b[0m\u001b[0;34m=\u001b[0m\u001b[0;34m'utf-8'\u001b[0m\u001b[0;34m)\u001b[0m\u001b[0;34m\u001b[0m\u001b[0m\n\u001b[1;32m      4\u001b[0m \u001b[0mcats2d_descriptors\u001b[0m\u001b[0;34m.\u001b[0m\u001b[0mhead\u001b[0m\u001b[0;34m(\u001b[0m\u001b[0;34m)\u001b[0m\u001b[0;34m\u001b[0m\u001b[0m\n",
      "\u001b[0;32m~/anaconda3/envs/my-rdkit-env/lib/python3.6/site-packages/smdt-1.0-py3.6.egg/smdt/cats2d.py\u001b[0m in \u001b[0;36mCATS2D\u001b[0;34m(df_x)\u001b[0m\n\u001b[1;32m    267\u001b[0m        \u001b[0mr\u001b[0m\u001b[0;34m[\u001b[0m\u001b[0mkey\u001b[0m\u001b[0;34m]\u001b[0m \u001b[0;34m=\u001b[0m \u001b[0;34m[\u001b[0m\u001b[0;34m]\u001b[0m\u001b[0;34m\u001b[0m\u001b[0m\n\u001b[1;32m    268\u001b[0m     \u001b[0;32mfor\u001b[0m \u001b[0mm\u001b[0m \u001b[0;32min\u001b[0m \u001b[0mdf_x\u001b[0m\u001b[0;34m[\u001b[0m\u001b[0;34m'SMILES'\u001b[0m\u001b[0;34m]\u001b[0m\u001b[0;34m:\u001b[0m\u001b[0;34m\u001b[0m\u001b[0m\n\u001b[0;32m--> 269\u001b[0;31m         \u001b[0mmol\u001b[0m \u001b[0;34m=\u001b[0m \u001b[0mChem\u001b[0m\u001b[0;34m.\u001b[0m\u001b[0mMolFromSmiles\u001b[0m\u001b[0;34m(\u001b[0m\u001b[0mm\u001b[0m\u001b[0;34m)\u001b[0m\u001b[0;34m\u001b[0m\u001b[0m\n\u001b[0m\u001b[1;32m    270\u001b[0m         \u001b[0mres\u001b[0m \u001b[0;34m=\u001b[0m \u001b[0mCATS2DforMol\u001b[0m\u001b[0;34m(\u001b[0m\u001b[0mmol\u001b[0m\u001b[0;34m)\u001b[0m\u001b[0;34m\u001b[0m\u001b[0m\n\u001b[1;32m    271\u001b[0m         \u001b[0;32mfor\u001b[0m \u001b[0mkey\u001b[0m \u001b[0;32min\u001b[0m \u001b[0m_labels\u001b[0m\u001b[0;34m:\u001b[0m\u001b[0;34m\u001b[0m\u001b[0m\n",
      "\u001b[0;31mKeyboardInterrupt\u001b[0m: "
     ]
    }
   ],
   "source": [
    "from smdt import cats2d\n",
    "cats2d_descriptors = cats2d.CATS2D(df_x)\n",
    "cats2d_descriptors.to_csv('CATS2D_Descriptors.csv',encoding='utf-8')\n",
    "cats2d_descriptors.head()"
   ]
  },
  {
   "cell_type": "markdown",
   "metadata": {},
   "source": [
    "#### Charge Descriptors"
   ]
  },
  {
   "cell_type": "code",
   "execution_count": null,
   "metadata": {
    "collapsed": true
   },
   "outputs": [],
   "source": [
    "import charge\n",
    "charge_descriptors = charge.GetCharge(df_x)\n",
    "charge_descriptors.to_csv('Charge_Descriptors.csv',encoding='utf-8')\n",
    "charge_descriptors.head()"
   ]
  },
  {
   "cell_type": "markdown",
   "metadata": {},
   "source": [
    "#### Connectivity Descriptors"
   ]
  },
  {
   "cell_type": "code",
   "execution_count": null,
   "metadata": {
    "collapsed": true
   },
   "outputs": [],
   "source": [
    "import connectivity\n",
    "connectivity_descriptors = connectivity.GetConnectivity(df_x)\n",
    "connectivity_descriptors.to_csv('Connectivity_Descriptors.csv',encoding='utf-8')\n",
    "connectivity_descriptors.head()"
   ]
  },
  {
   "cell_type": "markdown",
   "metadata": {},
   "source": [
    "#### Estate Descriptors"
   ]
  },
  {
   "cell_type": "code",
   "execution_count": null,
   "metadata": {
    "collapsed": true
   },
   "outputs": [],
   "source": [
    "import estate\n",
    "estate_descriptors = estate.GetEstate(df_x)\n",
    "estate_descriptors.to_csv('Estate_Descriptors.csv',encoding='utf-8')\n",
    "estate_descriptors.head()"
   ]
  }
 ],
 "metadata": {
  "kernelspec": {
   "display_name": "Python 3",
   "language": "python",
   "name": "python3"
  },
  "language_info": {
   "codemirror_mode": {
    "name": "ipython",
    "version": 3
   },
   "file_extension": ".py",
   "mimetype": "text/x-python",
   "name": "python",
   "nbconvert_exporter": "python",
   "pygments_lexer": "ipython3",
   "version": "3.6.2"
  }
 },
 "nbformat": 4,
 "nbformat_minor": 2
}
