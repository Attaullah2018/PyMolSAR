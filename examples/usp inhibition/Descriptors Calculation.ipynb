{
 "cells": [
  {
   "cell_type": "markdown",
   "metadata": {},
   "source": [
    "# Calculating Molecular Descriptors"
   ]
  },
  {
   "cell_type": "markdown",
   "metadata": {},
   "source": [
    "#### Imports"
   ]
  },
  {
   "cell_type": "code",
   "execution_count": 1,
   "metadata": {
    "collapsed": true
   },
   "outputs": [],
   "source": [
    "try:\n",
    "    import urllib.request as urllib2\n",
    "except ImportError:\n",
    "    import urllib2\n",
    "import os.path as op\n",
    "import inspect\n",
    "import pandas as pd"
   ]
  },
  {
   "cell_type": "markdown",
   "metadata": {},
   "source": [
    "#### Data"
   ]
  },
  {
   "cell_type": "code",
   "execution_count": 2,
   "metadata": {
    "collapsed": true
   },
   "outputs": [],
   "source": [
    "df_x = pd.read_csv('SMILES.csv')"
   ]
  },
  {
   "cell_type": "markdown",
   "metadata": {},
   "source": [
    "#### Topology Descriptors"
   ]
  },
  {
   "cell_type": "code",
   "execution_count": 3,
   "metadata": {},
   "outputs": [
    {
     "data": {
      "text/html": [
       "<div>\n",
       "<style>\n",
       "    .dataframe thead tr:only-child th {\n",
       "        text-align: right;\n",
       "    }\n",
       "\n",
       "    .dataframe thead th {\n",
       "        text-align: left;\n",
       "    }\n",
       "\n",
       "    .dataframe tbody tr th {\n",
       "        vertical-align: top;\n",
       "    }\n",
       "</style>\n",
       "<table border=\"1\" class=\"dataframe\">\n",
       "  <thead>\n",
       "    <tr style=\"text-align: right;\">\n",
       "      <th></th>\n",
       "      <th>AW</th>\n",
       "      <th>Arto</th>\n",
       "      <th>BertzCT</th>\n",
       "      <th>DZ</th>\n",
       "      <th>GMTI</th>\n",
       "      <th>Geto</th>\n",
       "      <th>Hato</th>\n",
       "      <th>Ipc</th>\n",
       "      <th>J</th>\n",
       "      <th>MZM1</th>\n",
       "      <th>...</th>\n",
       "      <th>Thara</th>\n",
       "      <th>Tigdi</th>\n",
       "      <th>Tsch</th>\n",
       "      <th>W</th>\n",
       "      <th>Xu</th>\n",
       "      <th>ZM1</th>\n",
       "      <th>ZM2</th>\n",
       "      <th>diametert</th>\n",
       "      <th>petitjeant</th>\n",
       "      <th>radiust</th>\n",
       "    </tr>\n",
       "  </thead>\n",
       "  <tbody>\n",
       "    <tr>\n",
       "      <th>0</th>\n",
       "      <td>3.077</td>\n",
       "      <td>2.0</td>\n",
       "      <td>2.579</td>\n",
       "      <td>31.333</td>\n",
       "      <td>2.911</td>\n",
       "      <td>1.791</td>\n",
       "      <td>1.592</td>\n",
       "      <td>2.830</td>\n",
       "      <td>3.267</td>\n",
       "      <td>6.306</td>\n",
       "      <td>...</td>\n",
       "      <td>34.3</td>\n",
       "      <td>3.053</td>\n",
       "      <td>953.0</td>\n",
       "      <td>240.0</td>\n",
       "      <td>12.857</td>\n",
       "      <td>62</td>\n",
       "      <td>70</td>\n",
       "      <td>6.0</td>\n",
       "      <td>0.5</td>\n",
       "      <td>3.0</td>\n",
       "    </tr>\n",
       "    <tr>\n",
       "      <th>1</th>\n",
       "      <td>2.655</td>\n",
       "      <td>2.0</td>\n",
       "      <td>2.466</td>\n",
       "      <td>26.000</td>\n",
       "      <td>2.696</td>\n",
       "      <td>1.801</td>\n",
       "      <td>1.610</td>\n",
       "      <td>2.440</td>\n",
       "      <td>3.274</td>\n",
       "      <td>5.194</td>\n",
       "      <td>...</td>\n",
       "      <td>26.8</td>\n",
       "      <td>2.837</td>\n",
       "      <td>595.0</td>\n",
       "      <td>146.0</td>\n",
       "      <td>10.735</td>\n",
       "      <td>52</td>\n",
       "      <td>59</td>\n",
       "      <td>5.0</td>\n",
       "      <td>0.4</td>\n",
       "      <td>3.0</td>\n",
       "    </tr>\n",
       "    <tr>\n",
       "      <th>2</th>\n",
       "      <td>2.655</td>\n",
       "      <td>2.0</td>\n",
       "      <td>2.108</td>\n",
       "      <td>27.000</td>\n",
       "      <td>2.693</td>\n",
       "      <td>1.801</td>\n",
       "      <td>1.610</td>\n",
       "      <td>2.446</td>\n",
       "      <td>2.512</td>\n",
       "      <td>5.194</td>\n",
       "      <td>...</td>\n",
       "      <td>26.8</td>\n",
       "      <td>2.837</td>\n",
       "      <td>593.0</td>\n",
       "      <td>146.0</td>\n",
       "      <td>10.722</td>\n",
       "      <td>52</td>\n",
       "      <td>59</td>\n",
       "      <td>5.0</td>\n",
       "      <td>0.4</td>\n",
       "      <td>3.0</td>\n",
       "    </tr>\n",
       "    <tr>\n",
       "      <th>3</th>\n",
       "      <td>2.764</td>\n",
       "      <td>2.0</td>\n",
       "      <td>2.466</td>\n",
       "      <td>26.000</td>\n",
       "      <td>2.717</td>\n",
       "      <td>1.801</td>\n",
       "      <td>1.610</td>\n",
       "      <td>2.434</td>\n",
       "      <td>3.152</td>\n",
       "      <td>5.194</td>\n",
       "      <td>...</td>\n",
       "      <td>26.5</td>\n",
       "      <td>2.803</td>\n",
       "      <td>619.0</td>\n",
       "      <td>152.0</td>\n",
       "      <td>10.871</td>\n",
       "      <td>52</td>\n",
       "      <td>58</td>\n",
       "      <td>6.0</td>\n",
       "      <td>0.5</td>\n",
       "      <td>3.0</td>\n",
       "    </tr>\n",
       "    <tr>\n",
       "      <th>4</th>\n",
       "      <td>2.655</td>\n",
       "      <td>2.0</td>\n",
       "      <td>2.471</td>\n",
       "      <td>25.500</td>\n",
       "      <td>2.696</td>\n",
       "      <td>1.801</td>\n",
       "      <td>1.610</td>\n",
       "      <td>2.440</td>\n",
       "      <td>3.274</td>\n",
       "      <td>5.194</td>\n",
       "      <td>...</td>\n",
       "      <td>26.8</td>\n",
       "      <td>2.837</td>\n",
       "      <td>595.0</td>\n",
       "      <td>146.0</td>\n",
       "      <td>10.735</td>\n",
       "      <td>52</td>\n",
       "      <td>59</td>\n",
       "      <td>5.0</td>\n",
       "      <td>0.4</td>\n",
       "      <td>3.0</td>\n",
       "    </tr>\n",
       "  </tbody>\n",
       "</table>\n",
       "<p>5 rows × 25 columns</p>\n",
       "</div>"
      ],
      "text/plain": [
       "      AW  Arto  BertzCT      DZ   GMTI   Geto   Hato    Ipc      J   MZM1  \\\n",
       "0  3.077   2.0    2.579  31.333  2.911  1.791  1.592  2.830  3.267  6.306   \n",
       "1  2.655   2.0    2.466  26.000  2.696  1.801  1.610  2.440  3.274  5.194   \n",
       "2  2.655   2.0    2.108  27.000  2.693  1.801  1.610  2.446  2.512  5.194   \n",
       "3  2.764   2.0    2.466  26.000  2.717  1.801  1.610  2.434  3.152  5.194   \n",
       "4  2.655   2.0    2.471  25.500  2.696  1.801  1.610  2.440  3.274  5.194   \n",
       "\n",
       "    ...     Thara  Tigdi   Tsch      W      Xu  ZM1  ZM2  diametert  \\\n",
       "0   ...      34.3  3.053  953.0  240.0  12.857   62   70        6.0   \n",
       "1   ...      26.8  2.837  595.0  146.0  10.735   52   59        5.0   \n",
       "2   ...      26.8  2.837  593.0  146.0  10.722   52   59        5.0   \n",
       "3   ...      26.5  2.803  619.0  152.0  10.871   52   58        6.0   \n",
       "4   ...      26.8  2.837  595.0  146.0  10.735   52   59        5.0   \n",
       "\n",
       "   petitjeant  radiust  \n",
       "0         0.5      3.0  \n",
       "1         0.4      3.0  \n",
       "2         0.4      3.0  \n",
       "3         0.5      3.0  \n",
       "4         0.4      3.0  \n",
       "\n",
       "[5 rows x 25 columns]"
      ]
     },
     "execution_count": 3,
     "metadata": {},
     "output_type": "execute_result"
    }
   ],
   "source": [
    "from smdt import topology\n",
    "topology_descriptors = topology.GetTopology(df_x.head())\n",
    "topology_descriptors.to_csv('Topology_Descriptors.csv',encoding='utf-8')\n",
    "topology_descriptors.head()"
   ]
  },
  {
   "cell_type": "markdown",
   "metadata": {},
   "source": [
    "#### Constitutional Descriptors"
   ]
  },
  {
   "cell_type": "code",
   "execution_count": null,
   "metadata": {
    "collapsed": true
   },
   "outputs": [],
   "source": [
    "import constitution\n",
    "constitution_descriptors = constitution.GetConstitutional(df_x)\n",
    "constitution_descriptors.to_csv('Constitutional_Descriptors.csv',encoding='utf-8')\n",
    "constitution_descriptors.head()"
   ]
  },
  {
   "cell_type": "markdown",
   "metadata": {},
   "source": [
    "#### Basak Descriptors"
   ]
  },
  {
   "cell_type": "code",
   "execution_count": 5,
   "metadata": {
    "collapsed": true
   },
   "outputs": [],
   "source": [
    "from rdkit import Chem\n",
    "import basak\n",
    "mol = Chem.MolFromSmiles(df_x['SMILES'][0])"
   ]
  },
  {
   "cell_type": "markdown",
   "metadata": {},
   "source": [
    "basak.GetBasak(mol)"
   ]
  },
  {
   "cell_type": "markdown",
   "metadata": {},
   "source": [
    "#### Burden Eigenvalue Descriptors"
   ]
  },
  {
   "cell_type": "code",
   "execution_count": null,
   "metadata": {
    "collapsed": true
   },
   "outputs": [],
   "source": [
    "import bcut\n",
    "burden_descriptors = bcut.GetBurden(df_x)\n",
    "burden_descriptors.to_csv('Burden_Descriptors.csv',encoding='utf-8')\n",
    "burden_descriptors.head()"
   ]
  },
  {
   "cell_type": "markdown",
   "metadata": {},
   "source": [
    "#### CATS2D Descriptors"
   ]
  },
  {
   "cell_type": "code",
   "execution_count": null,
   "metadata": {
    "collapsed": true
   },
   "outputs": [],
   "source": [
    "import cats2d\n",
    "cats2d_descriptors = cats2d.CATS2D(df_x)\n",
    "cats2d_descriptors.to_csv('CATS2D_Descriptors.csv',encoding='utf-8')\n",
    "cats2d_descriptors.head()"
   ]
  },
  {
   "cell_type": "markdown",
   "metadata": {},
   "source": [
    "#### Charge Descriptors"
   ]
  },
  {
   "cell_type": "code",
   "execution_count": null,
   "metadata": {
    "collapsed": true
   },
   "outputs": [],
   "source": [
    "import charge\n",
    "charge_descriptors = charge.GetCharge(df_x)\n",
    "charge_descriptors.to_csv('Charge_Descriptors.csv',encoding='utf-8')\n",
    "charge_descriptors.head()"
   ]
  },
  {
   "cell_type": "markdown",
   "metadata": {},
   "source": [
    "#### Connectivity Descriptors"
   ]
  },
  {
   "cell_type": "code",
   "execution_count": null,
   "metadata": {
    "collapsed": true
   },
   "outputs": [],
   "source": [
    "import connectivity\n",
    "connectivity_descriptors = connectivity.GetConnectivity(df_x)\n",
    "connectivity_descriptors.to_csv('Connectivity_Descriptors.csv',encoding='utf-8')\n",
    "connectivity_descriptors.head()"
   ]
  },
  {
   "cell_type": "markdown",
   "metadata": {},
   "source": [
    "#### Estate Descriptors"
   ]
  },
  {
   "cell_type": "code",
   "execution_count": null,
   "metadata": {
    "collapsed": true
   },
   "outputs": [],
   "source": [
    "import estate\n",
    "estate_descriptors = estate.GetEstate(df_x)\n",
    "estate_descriptors.to_csv('Estate_Descriptors.csv',encoding='utf-8')\n",
    "estate_descriptors.head()"
   ]
  }
 ],
 "metadata": {
  "kernelspec": {
   "display_name": "Python 3",
   "language": "python",
   "name": "python3"
  },
  "language_info": {
   "codemirror_mode": {
    "name": "ipython",
    "version": 3
   },
   "file_extension": ".py",
   "mimetype": "text/x-python",
   "name": "python",
   "nbconvert_exporter": "python",
   "pygments_lexer": "ipython3",
   "version": "3.6.2"
  }
 },
 "nbformat": 4,
 "nbformat_minor": 2
}
