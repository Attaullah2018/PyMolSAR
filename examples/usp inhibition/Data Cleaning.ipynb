{
 "cells": [
  {
   "cell_type": "markdown",
   "metadata": {},
   "source": [
    "# Small Molecule Design Toolkit"
   ]
  },
  {
   "cell_type": "markdown",
   "metadata": {},
   "source": [
    "#### Imports"
   ]
  },
  {
   "cell_type": "code",
   "execution_count": 1,
   "metadata": {
    "collapsed": true
   },
   "outputs": [],
   "source": [
    "import rdkit\n",
    "from rdkit import Chem, DataStructs\n",
    "from rdkit.Chem import AllChem, Descriptors\n",
    "import pandas as pd\n",
    "import numpy as np\n",
    "try:\n",
    "    import urllib.request as urllib2\n",
    "except ImportError:\n",
    "    import urllib2\n",
    "from sklearn.model_selection import train_test_split, StratifiedKFold, GridSearchCV\n",
    "import os.path as op\n",
    "import inspect\n",
    "from sklearn.ensemble import RandomForestClassifier"
   ]
  },
  {
   "cell_type": "markdown",
   "metadata": {},
   "source": [
    "#### Functions"
   ]
  },
  {
   "cell_type": "code",
   "execution_count": 2,
   "metadata": {
    "collapsed": true
   },
   "outputs": [],
   "source": [
    "def create_activity_dataframe(dataframe):\n",
    "    \"\"\"\n",
    "    Performing useful transformations on the acquired data for use in subsequent algorithm.\n",
    "    :param dataframe: Dataframe downloaded from NCBI database.\n",
    "    :return: df: Cleaned and sorted dataframe.\n",
    "    \"\"\"\n",
    "\n",
    "    # Eliminates first five text rows of csv\n",
    "    for j in range(5):\n",
    "        df = dataframe.drop(j, axis=0)\n",
    "    df = df.drop(['PUBCHEM_ACTIVITY_URL', 'PUBCHEM_RESULT_TAG',\n",
    "                  'PUBCHEM_ACTIVITY_SCORE', 'PUBCHEM_SID',\n",
    "                  'PUBCHEM_ASSAYDATA_COMMENT', 'Potency',\n",
    "                  'Efficacy', 'Analysis Comment',\n",
    "                  'Curve_Description', 'Fit_LogAC50',\n",
    "                  'Fit_HillSlope', 'Fit_R2', 'Fit_ZeroActivity',\n",
    "                  'Fit_CurveClass', 'Excluded_Points', 'Compound QC',\n",
    "                  'Max_Response', 'Phenotype', 'Activity at 0.457 uM',\n",
    "                  'Activity at 2.290 uM', 'Activity at 11.40 uM',\n",
    "                  'Activity at 57.10 uM', 'PUBCHEM_ACTIVITY_OUTCOME',\n",
    "                  'Fit_InfiniteActivity'], axis=1)\n",
    "    df.rename(columns={'PUBCHEM_CID': 'CID'}, inplace=True)\n",
    "\n",
    "    # Eliminates duplicate compound rows\n",
    "    df['dupes'] = df.duplicated('CID')\n",
    "    df = df[df['dupes'] == 0].drop(['dupes'], axis=1)\n",
    "    df = df.sort_values(by='CID')\n",
    "    return df"
   ]
  },
  {
   "cell_type": "code",
   "execution_count": 3,
   "metadata": {
    "collapsed": true
   },
   "outputs": [],
   "source": [
    "def change_nan_infinite(dataframe):\n",
    "    \"\"\"\n",
    "    Replacing NaN and infinite values from the dataframe with zeros.\n",
    "    :param dataframe: Dataframe containing NaN and infinite values.\n",
    "    :return data: Data with no NaN or infinite values.\n",
    "    \"\"\"\n",
    "\n",
    "    dataframe.replace([np.inf, -np.inf], np.nan, inplace=True)\n",
    "    data = dataframe.fillna(0)\n",
    "\n",
    "    return data"
   ]
  },
  {
   "cell_type": "markdown",
   "metadata": {},
   "source": [
    "#### Data Loading"
   ]
  },
  {
   "cell_type": "code",
   "execution_count": 4,
   "metadata": {
    "collapsed": true
   },
   "outputs": [],
   "source": [
    "path= op.dirname(op.dirname(op.abspath(inspect.getfile(inspect.currentframe()))))\n",
    "path = op.join(path, 'data')\n",
    "df_smiles = pd.read_csv(op.join(path,'compounds_smiles.txt'),sep=\"\\t\",names=[\"CID\", \"SMILES\"])\n",
    "response = pd.read_csv(op.join(path,'AID_743255_datatable.csv'),low_memory=False)\n",
    "df_activity = create_activity_dataframe(response)"
   ]
  },
  {
   "cell_type": "markdown",
   "metadata": {},
   "source": [
    "#### Data Cleaning"
   ]
  },
  {
   "cell_type": "code",
   "execution_count": 6,
   "metadata": {
    "collapsed": true
   },
   "outputs": [],
   "source": [
    "df = df_activity.merge(df_smiles)\n",
    "#The two numbers link to two rows where the SMILES strings were faulty and contained unrecognizable characters. \n",
    "#So, I decided to drop those rows\n",
    "df.drop(df.index[[276743, 354142]], inplace=True)\n",
    "df.sort_values(by='CID', inplace=True)\n",
    "df.reset_index(drop=True, inplace=True)\n",
    "TARGET_COLUMN = 'Activity_Score'\n",
    "# Drop non-descriptor columns before feature space reduction\n",
    "df_x = df.drop([TARGET_COLUMN, 'CID'], axis=1)\n",
    "# Creating target column\n",
    "df_y = df.drop(['SMILES', 'CID'], axis=1)\n",
    "df_y=pd.to_numeric(df_y['Activity_Score'])\n",
    "df_y=pd.DataFrame(df_y)"
   ]
  },
  {
   "cell_type": "markdown",
   "metadata": {},
   "source": [
    "#### Save new Dataframes"
   ]
  },
  {
   "cell_type": "code",
   "execution_count": 9,
   "metadata": {
    "collapsed": true
   },
   "outputs": [],
   "source": [
    "df_x.to_csv('SMILES.csv')\n",
    "df_y.to_csv('Activity.csv')"
   ]
  }
 ],
 "metadata": {
  "anaconda-cloud": {},
  "kernelspec": {
   "display_name": "Python 3",
   "language": "python",
   "name": "python3"
  },
  "language_info": {
   "codemirror_mode": {
    "name": "ipython",
    "version": 3
   },
   "file_extension": ".py",
   "mimetype": "text/x-python",
   "name": "python",
   "nbconvert_exporter": "python",
   "pygments_lexer": "ipython3",
   "version": "3.6.2"
  }
 },
 "nbformat": 4,
 "nbformat_minor": 2
}
