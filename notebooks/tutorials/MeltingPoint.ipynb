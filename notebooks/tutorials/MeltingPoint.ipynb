{
 "cells": [
  {
   "cell_type": "markdown",
   "metadata": {},
   "source": [
    "# Predicting Melting Points of Molecules"
   ]
  },
  {
   "cell_type": "markdown",
   "metadata": {},
   "source": [
    "### Import"
   ]
  },
  {
   "cell_type": "code",
   "execution_count": 1,
   "metadata": {},
   "outputs": [],
   "source": [
    "from smdt import datasets\n",
    "from smdt import molecular_descriptors\n",
    "from smdt import models\n",
    "import pandas as pd"
   ]
  },
  {
   "cell_type": "markdown",
   "metadata": {},
   "source": [
    "### Data Reading"
   ]
  },
  {
   "cell_type": "code",
   "execution_count": 26,
   "metadata": {},
   "outputs": [
    {
     "name": "stdout",
     "output_type": "stream",
     "text": [
      "n_rows: 4450\n",
      "n_columns: 2\n",
      "column names: ['SMILES', 'Target']\n",
      "                                              SMILES  Target\n",
      "0                                     O=C1Cc2ccccc21    14.0\n",
      "1  Clc1ccc(cc1)C1c2c(OC(N)=C1C#N)[nH][nH0]c2C(F)(F)F    20.5\n",
      "2                      O=C(OC)C(=Cc1ccccc1)Cc1ccccc1    27.5\n",
      "3                         FC(F)(F)c1[nH0]cc2ccccc2c1    30.5\n",
      "4                                O=C(OC1Cc2ccccc21)C    31.0\n"
     ]
    }
   ],
   "source": [
    "data = datasets.melting_point()\n",
    "print('n_rows: %d'%(data.shape[0]))\n",
    "print('n_columns: %d'%(data.shape[1]))\n",
    "print('column names: %s' %list(data.columns))\n",
    "print(data.head())"
   ]
  },
  {
   "cell_type": "code",
   "execution_count": 37,
   "metadata": {},
   "outputs": [],
   "source": [
    "from rdkit import Chem\n",
    "def smiles_validation(data):\n",
    "    for i in data.index:\n",
    "        try:\n",
    "            a = Chem.MolFromSmiles(data['SMILES'][i])\n",
    "            Chem.GetDistanceMatrix(a)\n",
    "        except:\n",
    "            data.drop(i,inplace=True)\n",
    "    data.reset_index(inplace=True)\n",
    "    return data"
   ]
  },
  {
   "cell_type": "code",
   "execution_count": 38,
   "metadata": {},
   "outputs": [],
   "source": [
    "data = smiles_validation(data)"
   ]
  },
  {
   "cell_type": "markdown",
   "metadata": {},
   "source": [
    "### Calculate Molecular Descriptors"
   ]
  },
  {
   "cell_type": "code",
   "execution_count": 39,
   "metadata": {},
   "outputs": [
    {
     "name": "stdout",
     "output_type": "stream",
     "text": [
      "\n",
      "Calculating Molecular Descriptors...\n",
      "Row 4333 out of 4333\n",
      "Calculating Molecular Descriptors Completed.\n"
     ]
    }
   ],
   "source": [
    "data = molecular_descriptors.getAllDescriptors(data)\n",
    "data.to_csv('Data_with_Molecular_Descriptors.csv', index=False)"
   ]
  },
  {
   "cell_type": "code",
   "execution_count": 40,
   "metadata": {},
   "outputs": [
    {
     "name": "stdout",
     "output_type": "stream",
     "text": [
      "n_rows: 4333\n",
      "n_columns: 760\n",
      "        W        AW         J         Xu      GMTI   Pol         DZ       Ipc  \\\n",
      "0    82.0  2.277778  2.634238   8.652965  2.568202   9.0  19.000000  2.157035   \n",
      "1  1046.0  4.134387  2.257916  21.532542  3.640283  40.0  53.833333  5.213381   \n",
      "2   742.0  4.339181  2.267054  19.046127  3.490801  24.0  40.000000  4.438837   \n",
      "3   288.0  3.164835  2.627008  13.842646  3.076640  20.0  33.000000  3.208180   \n",
      "4   203.0  3.075758  2.146253  12.143010  2.928908  13.0  26.000000  2.748027   \n",
      "\n",
      "    BertzCT      Thara   ...    ATSe8  ATSp1  ATSp2  ATSp3  ATSp4  ATSp5  \\\n",
      "0  2.419997  20.200000   ...    0.000  2.347  2.477  2.187  1.363  0.375   \n",
      "1  2.920743  86.101190   ...    2.652  3.044  3.387  3.444  3.413  3.332   \n",
      "2  2.745333  58.915873   ...    2.398  2.963  3.183  3.103  2.987  3.027   \n",
      "3  2.664754  39.761905   ...    0.000  2.581  2.841  2.760  2.318  1.877   \n",
      "4  2.501565  30.352381   ...    0.000  2.515  2.641  2.515  2.177  1.851   \n",
      "\n",
      "   ATSp6  ATSp7  ATSp8  Target  \n",
      "0  0.000  0.000  0.000    14.0  \n",
      "1  3.056  2.566  1.925    20.5  \n",
      "2  3.027  2.822  2.398    27.5  \n",
      "3  1.363  0.670  0.000    30.5  \n",
      "4  1.591  0.898  0.000    31.0  \n",
      "\n",
      "[5 rows x 760 columns]\n"
     ]
    }
   ],
   "source": [
    "data = pd.read_csv('Data_with_Molecular_Descriptors.csv')\n",
    "print('n_rows: %d'%(data.shape[0]))\n",
    "print('n_columns: %d'%(data.shape[1]))\n",
    "print(data.head())"
   ]
  },
  {
   "cell_type": "code",
   "execution_count": 43,
   "metadata": {},
   "outputs": [],
   "source": [
    "from smdt import data_processing"
   ]
  },
  {
   "cell_type": "code",
   "execution_count": 44,
   "metadata": {},
   "outputs": [],
   "source": [
    "data = data_processing.missing_value_imputation(data)"
   ]
  },
  {
   "cell_type": "markdown",
   "metadata": {},
   "source": [
    "### Models"
   ]
  },
  {
   "cell_type": "markdown",
   "metadata": {},
   "source": [
    "#### Linear Regressor"
   ]
  },
  {
   "cell_type": "code",
   "execution_count": 45,
   "metadata": {},
   "outputs": [
    {
     "name": "stdout",
     "output_type": "stream",
     "text": [
      "\n",
      "Linear Regression\n",
      "\n",
      "Found dataset of shape:  (4333, 760)\n",
      "\n",
      "Data Split started...\n",
      "Train data shape: (3249, 760)\n",
      "Test data shape: (1084, 760)\n",
      "Data Split completed.\n",
      "\n",
      "Data Scaling started...\n",
      "Data Scaling completed.\n",
      "\n",
      "Selecting Features...\n",
      "New train data shape: (3249, 11)\n",
      "New test data shape: (1084, 11)\n",
      "Feature selection completed.\n",
      "\n",
      "Training Linear Model...\n",
      "Training completed.\n",
      "\n",
      "Model Validation on Test data:\n",
      "{'mean squared error': 5222.975, 'r2': -0.0, 'mean absolute error': 58.0, 'explained r2': -0.0, 'mean squared log error': 0.0, 'median absolute error': 49.0}\n"
     ]
    }
   ],
   "source": [
    "linear = models.linear_model(data, feature_selection='univariate')"
   ]
  },
  {
   "cell_type": "markdown",
   "metadata": {},
   "source": [
    "#### Ridge Regressor"
   ]
  },
  {
   "cell_type": "code",
   "execution_count": 46,
   "metadata": {},
   "outputs": [
    {
     "name": "stdout",
     "output_type": "stream",
     "text": [
      "Ridge Regression\n",
      "\n",
      "Found dataset of shape:  (4333, 760)\n",
      "\n",
      "Data Split started...\n",
      "Train data shape: (3249, 760)\n",
      "Test data shape: (1084, 760)\n",
      "Data Split completed.\n",
      "\n",
      "Data Scaling started...\n",
      "Data Scaling completed.\n",
      "\n",
      "Selecting Features...\n",
      "New train data shape: (3249, 626)\n",
      "New test data shape: (1084, 626)\n",
      "Feature selection completed.\n",
      "\n",
      "Started GridSearchCV on Training data...\n",
      "GridSearchCV completed.\n",
      "\n",
      "Best Estimator:\n",
      "alpha: 10.0\n",
      "\n",
      "Model Validation on Test data:\n",
      "{'mean squared error': 6274.301, 'r2': -1.0, 'mean absolute error': 64.0, 'explained r2': -1.0, 'mean squared log error': 0.0, 'median absolute error': 56.0}\n"
     ]
    }
   ],
   "source": [
    "ridge = models.ridge_model(data, feature_selection='low variance')"
   ]
  },
  {
   "cell_type": "markdown",
   "metadata": {},
   "source": [
    "#### Lasso Regressor"
   ]
  },
  {
   "cell_type": "code",
   "execution_count": 47,
   "metadata": {},
   "outputs": [
    {
     "name": "stdout",
     "output_type": "stream",
     "text": [
      "Lasso Regression\n",
      "\n",
      "Found dataset of shape:  (4333, 760)\n",
      "\n",
      "Data Split started...\n",
      "Train data shape: (3249, 760)\n",
      "Test data shape: (1084, 760)\n",
      "Data Split completed.\n",
      "\n",
      "Data Scaling started...\n",
      "Data Scaling completed.\n",
      "\n",
      "Selecting Features...\n",
      "New train data shape: (3249, 626)\n",
      "New test data shape: (1084, 626)\n",
      "Feature selection completed.\n",
      "\n",
      "Started GridSearchCV on Training data...\n",
      "GridSearchCV completed.\n",
      "\n",
      "Best Estimator:\n",
      "alpha: 0.3563146315305976\n",
      "\n",
      "Model Validation on Test data:\n",
      "{'mean squared error': 6520.675, 'r2': -1.0, 'mean absolute error': 65.0, 'explained r2': -1.0, 'mean squared log error': 0.0, 'median absolute error': 54.0}\n"
     ]
    }
   ],
   "source": [
    "lasso = models.lasso_model(data, feature_selection='low variance')"
   ]
  },
  {
   "cell_type": "markdown",
   "metadata": {},
   "source": [
    "#### Random Forest Regressor"
   ]
  },
  {
   "cell_type": "code",
   "execution_count": 48,
   "metadata": {},
   "outputs": [
    {
     "name": "stdout",
     "output_type": "stream",
     "text": [
      "\n",
      "Random Forest Regression\n",
      "\n",
      "Found dataset of shape:  (4333, 760)\n",
      "\n",
      "Data Split started...\n",
      "Train data shape: (3249, 760)\n",
      "Test data shape: (1084, 760)\n",
      "Data Split completed.\n",
      "\n",
      "Data Scaling started...\n",
      "Data Scaling completed.\n",
      "\n",
      "Selecting Features...\n",
      "New train data shape: (3249, 51)\n",
      "New test data shape: (1084, 51)\n",
      "Feature selection completed.\n",
      "\n",
      "GridSearchCV Parameter Grid:\n",
      "{'n_estimators': [10, 50], 'criterion': ('mse', 'mae'), 'max_features': ('auto', 'sqrt', 'log2')}\n",
      "\n",
      "Started GridSearchCV on Training data...\n",
      "GridSearchCV completed.\n",
      "\n",
      "Best Estimator:\n",
      "parameters: RandomForestRegressor(bootstrap=True, criterion='mse', max_depth=None,\n",
      "           max_features='auto', max_leaf_nodes=None,\n",
      "           min_impurity_decrease=0.0, min_impurity_split=None,\n",
      "           min_samples_leaf=1, min_samples_split=2,\n",
      "           min_weight_fraction_leaf=0.0, n_estimators=50, n_jobs=1,\n",
      "           oob_score=False, random_state=None, verbose=0, warm_start=False)\n",
      "Cross-validation r2 score of the best estimator: 0.466\n",
      "\n",
      "Model Validation on Test data:\n",
      "{'mean squared error': 5757.023, 'r2': -0.0, 'mean absolute error': 61.0, 'explained r2': -0.0, 'mean squared log error': 0.0, 'median absolute error': 52.0}\n"
     ]
    }
   ],
   "source": [
    "random_forest = models.random_forest_model(data, feature_selection='univariate', n_features=50)"
   ]
  },
  {
   "cell_type": "markdown",
   "metadata": {},
   "source": [
    "#### Extra Trees Regressor"
   ]
  },
  {
   "cell_type": "code",
   "execution_count": null,
   "metadata": {},
   "outputs": [],
   "source": [
    "extra_trees = models.extra_trees_model(data,feature_selection='univariate', n_features=50)"
   ]
  },
  {
   "cell_type": "markdown",
   "metadata": {},
   "source": [
    "#### Gradient Boosting Regressor"
   ]
  },
  {
   "cell_type": "code",
   "execution_count": null,
   "metadata": {},
   "outputs": [],
   "source": [
    "gradient_boosting = models.gradient_boosting_model(data, feature_selection='univariate', n_features=50)"
   ]
  },
  {
   "cell_type": "markdown",
   "metadata": {},
   "source": [
    "#### SGD Regressor"
   ]
  },
  {
   "cell_type": "code",
   "execution_count": 50,
   "metadata": {},
   "outputs": [
    {
     "name": "stdout",
     "output_type": "stream",
     "text": [
      "\n",
      "SGD Regression\n",
      "\n",
      "Found dataset of shape:  (4333, 760)\n",
      "\n",
      "Data Split started...\n",
      "Train data shape: (3249, 760)\n",
      "Test data shape: (1084, 760)\n",
      "Data Split completed.\n",
      "\n",
      "Data Scaling started...\n",
      "Data Scaling completed.\n",
      "\n",
      "Selecting Features...\n",
      "New train data shape: (3249, 11)\n",
      "New test data shape: (1084, 11)\n",
      "Feature selection completed.\n",
      "\n",
      "GridSearchCV Parameter Grid:\n",
      "{'loss': ('squared_loss', 'huber', 'epsilon_insensitive', 'squared_epsilon_insensitive'), 'penalty': ('l1', 'l2', 'elasticnet', 'none')}\n",
      "\n",
      "Started GridSearchCV on Training data...\n",
      "GridSearchCV completed.\n",
      "\n",
      "Best Estimator:\n",
      "parameters: SGDRegressor(alpha=0.0001, average=False, epsilon=0.1, eta0=0.01,\n",
      "       fit_intercept=True, l1_ratio=0.15, learning_rate='invscaling',\n",
      "       loss='squared_loss', max_iter=None, n_iter=None,\n",
      "       penalty='elasticnet', power_t=0.25, random_state=None, shuffle=True,\n",
      "       tol=None, verbose=0, warm_start=False)\n",
      "Cross-validation r2 score of the best estimator: 0.280\n",
      "\n",
      "Model Validation on Test data:\n",
      "{'mean squared error': 5109.984, 'r2': -0.0, 'mean absolute error': 57.0, 'explained r2': -0.0, 'mean squared log error': 0.0, 'median absolute error': 49.0}\n"
     ]
    }
   ],
   "source": [
    "sgd = models.sgd_model(data, feature_selection='univariate', n_features=10)"
   ]
  },
  {
   "cell_type": "markdown",
   "metadata": {},
   "source": [
    "#### Support Vector Regressor"
   ]
  },
  {
   "cell_type": "code",
   "execution_count": null,
   "metadata": {},
   "outputs": [],
   "source": [
    "svr = models.svr_model(data, feature_selection='tree based')"
   ]
  }
 ],
 "metadata": {
  "kernelspec": {
   "display_name": "Python 3",
   "language": "python",
   "name": "python3"
  },
  "language_info": {
   "codemirror_mode": {
    "name": "ipython",
    "version": 3
   },
   "file_extension": ".py",
   "mimetype": "text/x-python",
   "name": "python",
   "nbconvert_exporter": "python",
   "pygments_lexer": "ipython3",
   "version": "3.6.4"
  }
 },
 "nbformat": 4,
 "nbformat_minor": 2
}
