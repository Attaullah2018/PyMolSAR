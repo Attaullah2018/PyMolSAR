{
 "cells": [
  {
   "cell_type": "markdown",
   "metadata": {},
   "source": [
    "# S2RSLDB: a comprehensive manually curated, internet-accessible database of the sigma-2 receptor selective ligands"
   ]
  },
  {
   "cell_type": "markdown",
   "metadata": {},
   "source": [
    "### Imports"
   ]
  },
  {
   "cell_type": "code",
   "execution_count": 1,
   "metadata": {},
   "outputs": [],
   "source": [
    "from smdt import datasets\n",
    "from smdt import data_processing\n",
    "from smdt import molecular_descriptors\n",
    "import pandas as pd"
   ]
  },
  {
   "cell_type": "markdown",
   "metadata": {},
   "source": [
    "### Data"
   ]
  },
  {
   "cell_type": "code",
   "execution_count": 2,
   "metadata": {},
   "outputs": [
    {
     "name": "stdout",
     "output_type": "stream",
     "text": [
      "Reference: \n",
      "G. Nastasi, C. Miceli, V. Pittala, M.N. Modica, O. Prezzavento, G. Romeo, A. Rescifina, A. Marrazzo, E. AmataS2RSLDB: a comprehensive manually curated, internet-accessible database of the sigma-2 receptor selective ligandsJ. Cheminform., 9 (2017), p. 3\n"
     ]
    }
   ],
   "source": [
    "Sigma2 = datasets.load_Sigma2ReceptorLigands()"
   ]
  },
  {
   "cell_type": "markdown",
   "metadata": {},
   "source": [
    "### Descriptors"
   ]
  },
  {
   "cell_type": "code",
   "execution_count": 4,
   "metadata": {
    "scrolled": true
   },
   "outputs": [
    {
     "name": "stdout",
     "output_type": "stream",
     "text": [
      "\n",
      "Calculating Molecular Descriptors...\n",
      "Row 651 out of 651\n",
      "Calculating Molecular Descriptors Completed.\n"
     ]
    }
   ],
   "source": [
    "data = molecular_descriptors.getAllDescriptors(Sigma2)"
   ]
  },
  {
   "cell_type": "code",
   "execution_count": 5,
   "metadata": {},
   "outputs": [],
   "source": [
    "y = data['Target']\n",
    "X = data.drop(['Target'], axis=1)"
   ]
  },
  {
   "cell_type": "code",
   "execution_count": 6,
   "metadata": {},
   "outputs": [],
   "source": [
    "from sklearn.preprocessing import Imputer\n",
    "a = Imputer(missing_values='NaN', strategy='mean', axis=0)\n",
    "X = a.fit_transform(X)"
   ]
  },
  {
   "cell_type": "markdown",
   "metadata": {},
   "source": [
    "### Models"
   ]
  },
  {
   "cell_type": "code",
   "execution_count": 12,
   "metadata": {},
   "outputs": [],
   "source": [
    "from sklearn.ensemble import RandomForestRegressor\n",
    "from sklearn.preprocessing import StandardScaler, LabelEncoder, Imputer\n",
    "from sklearn.feature_selection import SelectKBest\n",
    "from sklearn.model_selection import train_test_split, GridSearchCV\n",
    "from sklearn.decomposition import PCA\n",
    "from smdt import data_processing\n",
    "from smdt import molecular_descriptors\n",
    "from sklearn import metrics\n",
    "import numpy as np\n",
    "import pandas as pd"
   ]
  },
  {
   "cell_type": "code",
   "execution_count": 243,
   "metadata": {},
   "outputs": [],
   "source": [
    "def fit_RandomForestRegressor(X, y, n_features):\n",
    "    # Train Test Split\n",
    "    X_train, X_test, y_train, y_test = train_test_split(X, y, random_state=12)\n",
    "\n",
    "    # Standardization\n",
    "    a = StandardScaler()\n",
    "    X_train = a.fit_transform(X_train)\n",
    "    X_test = a.transform(X_test)\n",
    "    \n",
    "    # Feature Selection\n",
    "    b = PCA(n_components=n_features)\n",
    "    X_train = b.fit_transform(X_train, y_train)\n",
    "    X_test = b.transform(X_test)\n",
    "\n",
    "    # Grid Search CV\n",
    "    clf = RandomForestRegressor()\n",
    "    parameters = {'n_estimators': [10, 100], 'criterion': ['mse', 'mae'],\n",
    "                  'max_features': ['auto', 'sqrt', 'log2'], 'oob_score': [True, False], 'verbose': [0]}\n",
    "    grid = GridSearchCV(clf, parameters)\n",
    "    grid.fit(X_train, y_train)\n",
    "\n",
    "    # Metrics\n",
    "    print('Training data GridSearchCV best r2 score: %.5f' % grid.best_score_)\n",
    "    print('Testing Data Regression r2 score: %.5f' % grid.score(X_test, y_test))\n",
    "\n",
    "    return grid"
   ]
  },
  {
   "cell_type": "code",
   "execution_count": 244,
   "metadata": {},
   "outputs": [
    {
     "name": "stdout",
     "output_type": "stream",
     "text": [
      "Training data GridSearchCV best r2 score: -0.39882\n",
      "Testing Data Regression r2 score: 0.19376\n"
     ]
    },
    {
     "data": {
      "text/plain": [
       "GridSearchCV(cv=None, error_score='raise',\n",
       "       estimator=RandomForestRegressor(bootstrap=True, criterion='mse', max_depth=None,\n",
       "           max_features='auto', max_leaf_nodes=None,\n",
       "           min_impurity_decrease=0.0, min_impurity_split=None,\n",
       "           min_samples_leaf=1, min_samples_split=2,\n",
       "           min_weight_fraction_leaf=0.0, n_estimators=10, n_jobs=1,\n",
       "           oob_score=False, random_state=None, verbose=0, warm_start=False),\n",
       "       fit_params=None, iid=True, n_jobs=1,\n",
       "       param_grid={'n_estimators': [10, 100], 'criterion': ['mse', 'mae'], 'max_features': ['auto', 'sqrt', 'log2'], 'oob_score': [True, False], 'verbose': [0]},\n",
       "       pre_dispatch='2*n_jobs', refit=True, return_train_score='warn',\n",
       "       scoring=None, verbose=0)"
      ]
     },
     "execution_count": 244,
     "metadata": {},
     "output_type": "execute_result"
    }
   ],
   "source": [
    "fit_RandomForestRegressor(X,y,10)"
   ]
  },
  {
   "cell_type": "code",
   "execution_count": 14,
   "metadata": {},
   "outputs": [],
   "source": [
    "from sklearn.linear_model import LassoCV"
   ]
  },
  {
   "cell_type": "code",
   "execution_count": 210,
   "metadata": {},
   "outputs": [],
   "source": [
    "def fit_Lasso(X, y, n_features):\n",
    "    # Train Test Split\n",
    "    X_train, X_test, y_train, y_test = train_test_split(X, y, test_size = 0.1, random_state=26)\n",
    "\n",
    "    # Standardization\n",
    "    a = StandardScaler()\n",
    "    X_train = a.fit_transform(X_train)\n",
    "    X_test = a.transform(X_test)\n",
    "\n",
    "    # Feature Selection\n",
    "    b = PCA(n_components=n_features)\n",
    "    X_train = b.fit_transform(X_train, y_train)\n",
    "    X_test = b.transform(X_test)\n",
    "\n",
    "    # Grid Search CV\n",
    "    clf = LassoCV(cv=10)\n",
    "    clf.fit(X_train, y_train)\n",
    "\n",
    "    # Metrics\n",
    "    print('Training data GridSearchCV best r2 score: %.5f' % clf.score(X_train, y_train))\n",
    "    print('Testing Data Classification r2 score: %.5f' % clf.score(X_test, y_test))\n",
    "\n",
    "    return clf\n"
   ]
  },
  {
   "cell_type": "code",
   "execution_count": 211,
   "metadata": {},
   "outputs": [
    {
     "name": "stdout",
     "output_type": "stream",
     "text": [
      "Training data GridSearchCV best r2 score: 0.22391\n",
      "Testing Data Classification r2 score: 0.25915\n"
     ]
    },
    {
     "data": {
      "text/plain": [
       "LassoCV(alphas=None, copy_X=True, cv=10, eps=0.001, fit_intercept=True,\n",
       "    max_iter=1000, n_alphas=100, n_jobs=1, normalize=False, positive=False,\n",
       "    precompute='auto', random_state=None, selection='cyclic', tol=0.0001,\n",
       "    verbose=False)"
      ]
     },
     "execution_count": 211,
     "metadata": {},
     "output_type": "execute_result"
    }
   ],
   "source": [
    "fit_Lasso(X,y,50)"
   ]
  },
  {
   "cell_type": "code",
   "execution_count": null,
   "metadata": {},
   "outputs": [],
   "source": []
  }
 ],
 "metadata": {
  "kernelspec": {
   "display_name": "Python 3",
   "language": "python",
   "name": "python3"
  },
  "language_info": {
   "codemirror_mode": {
    "name": "ipython",
    "version": 3
   },
   "file_extension": ".py",
   "mimetype": "text/x-python",
   "name": "python",
   "nbconvert_exporter": "python",
   "pygments_lexer": "ipython3",
   "version": "3.6.4"
  }
 },
 "nbformat": 4,
 "nbformat_minor": 2
}
