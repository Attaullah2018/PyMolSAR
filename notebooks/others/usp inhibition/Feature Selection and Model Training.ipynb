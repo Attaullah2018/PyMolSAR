{
 "cells": [
  {
   "cell_type": "code",
   "execution_count": 1,
   "metadata": {
    "collapsed": true
   },
   "outputs": [],
   "source": [
    "import pandas as pd\n",
    "from sklearn import model_selection\n",
    "from sklearn.ensemble import RandomForestRegressor\n",
    "from sklearn.linear_model import LinearRegression\n",
    "import numpy as np"
   ]
  },
  {
   "cell_type": "code",
   "execution_count": 2,
   "metadata": {
    "collapsed": true
   },
   "outputs": [],
   "source": [
    "url_list = ['Burden_Descriptors.csv','CATS2D_Descriptors.csv','Charge_Descriptors.csv','Connectivity_Descriptors.csv',\n",
    "            'Constitutional_Descriptors.csv','Estate_Descriptors.csv','Geary_Descriptors.csv','Kappa_Descriptors.csv',\n",
    "            'MOE_Descriptors.csv','Moran_Descriptors.csv','Moreau_Broto_Descriptors.csv','Topology_Descriptors.csv']"
   ]
  },
  {
   "cell_type": "code",
   "execution_count": 3,
   "metadata": {
    "collapsed": true
   },
   "outputs": [],
   "source": [
    "i = 0\n",
    "df = [0] * len(url_list)\n",
    "for url in url_list:\n",
    "    df[i] = pd.read_csv(url)\n",
    "    df[i].drop(df[i].columns[0], axis=1, inplace=True)\n",
    "    df[i].reset_index(drop=True, inplace=True)\n",
    "    i += 1\n",
    "\n",
    "joined_df = df[0]\n",
    "for i in df[1:]:\n",
    "    joined_df = joined_df.join(i)"
   ]
  },
  {
   "cell_type": "code",
   "execution_count": 8,
   "metadata": {
    "collapsed": true
   },
   "outputs": [],
   "source": [
    "from smdt.descriptors import cats2d"
   ]
  },
  {
   "cell_type": "code",
   "execution_count": 12,
   "metadata": {},
   "outputs": [
    {
     "ename": "ImportError",
     "evalue": "cannot import name 'smdt'",
     "output_type": "error",
     "traceback": [
      "\u001b[0;31m---------------------------------------------------------------------------\u001b[0m",
      "\u001b[0;31mImportError\u001b[0m                               Traceback (most recent call last)",
      "\u001b[0;32m<ipython-input-12-a5ff7d8ee2d2>\u001b[0m in \u001b[0;36m<module>\u001b[0;34m()\u001b[0m\n\u001b[0;32m----> 1\u001b[0;31m \u001b[0;32mfrom\u001b[0m \u001b[0msmdt\u001b[0m \u001b[0;32mimport\u001b[0m \u001b[0msmdt\u001b[0m\u001b[0;34m\u001b[0m\u001b[0m\n\u001b[0m",
      "\u001b[0;31mImportError\u001b[0m: cannot import name 'smdt'"
     ]
    }
   ],
   "source": [
    "from smdt import "
   ]
  },
  {
   "cell_type": "code",
   "execution_count": 4,
   "metadata": {},
   "outputs": [
    {
     "ename": "NameError",
     "evalue": "name 'change_nan_infinite' is not defined",
     "output_type": "error",
     "traceback": [
      "\u001b[0;31m---------------------------------------------------------------------------\u001b[0m",
      "\u001b[0;31mNameError\u001b[0m                                 Traceback (most recent call last)",
      "\u001b[0;32m<ipython-input-4-01181acb681a>\u001b[0m in \u001b[0;36m<module>\u001b[0;34m()\u001b[0m\n\u001b[1;32m      3\u001b[0m \u001b[0mdf_y\u001b[0m\u001b[0;34m=\u001b[0m\u001b[0mdf_y\u001b[0m\u001b[0;34m[\u001b[0m\u001b[0;34m:\u001b[0m\u001b[0;36m1000\u001b[0m\u001b[0;34m]\u001b[0m\u001b[0;34m\u001b[0m\u001b[0m\n\u001b[1;32m      4\u001b[0m \u001b[0;34m\u001b[0m\u001b[0m\n\u001b[0;32m----> 5\u001b[0;31m \u001b[0mdf_x\u001b[0m \u001b[0;34m=\u001b[0m \u001b[0mchange_nan_infinite\u001b[0m\u001b[0;34m(\u001b[0m\u001b[0mdf_x\u001b[0m\u001b[0;34m)\u001b[0m\u001b[0;34m\u001b[0m\u001b[0m\n\u001b[0m\u001b[1;32m      6\u001b[0m \u001b[0mdf_y\u001b[0m \u001b[0;34m=\u001b[0m \u001b[0mchange_nan_infinite\u001b[0m\u001b[0;34m(\u001b[0m\u001b[0mdf_y\u001b[0m\u001b[0;34m)\u001b[0m\u001b[0;34m\u001b[0m\u001b[0m\n",
      "\u001b[0;31mNameError\u001b[0m: name 'change_nan_infinite' is not defined"
     ]
    }
   ],
   "source": [
    "df_x = joined_df\n",
    "df_y = pd.read_csv('Activity_new.csv',index_col='Unnamed: 0')\n",
    "df_y=df_y[:1000]"
   ]
  },
  {
   "cell_type": "code",
   "execution_count": 6,
   "metadata": {
    "collapsed": true
   },
   "outputs": [],
   "source": [
    "def feature_selection(df_x,n_features):\n",
    "    df_x = change_nan_infinite(df_x)\n",
    "    df_y = change_nan_infinite(df_y)\n",
    "    column_names = df_x.columns\n",
    "    x_train, x_test, y_train, y_test = model_selection.train_test_split(df_x, df_y, test_size=0.25, random_state=42)\n",
    "    clf = RandomForestRegressor(n_jobs=-1, random_state=1, n_estimators=10)\n",
    "    clf.fit(x_train, y_train)\n",
    "    feature_importance = clf.feature_importances_\n",
    "    scores_table = pd.DataFrame({'feature': column_names, 'scores':feature_importance}).sort_values(by=['scores'], ascending=False)\n",
    "    scores = scores_table['scores'].tolist()\n",
    "\n",
    "    feature_scores = scores_table['feature'].tolist()\n",
    "    selected_features = feature_scores[:n_features]\n",
    "    x_train = pd.DataFrame(x_train, columns=column_names)\n",
    "    desired_x_train = x_train[selected_features]\n",
    "    x_test = pd.DataFrame(x_test, columns=column_names)\n",
    "    desired_x_test = x_test[selected_features]\n",
    "    \n",
    "    return desired_x_train,desired_x_test"
   ]
  },
  {
   "cell_type": "code",
   "execution_count": null,
   "metadata": {
    "collapsed": true
   },
   "outputs": [],
   "source": []
  },
  {
   "cell_type": "code",
   "execution_count": 70,
   "metadata": {
    "collapsed": true
   },
   "outputs": [],
   "source": [
    "clf = LinearRegression(n_jobs=-1)\n",
    "clf.fit(desired_x_train, y_train)\n",
    "y_pred = clf.predict(desired_x_test)\n",
    "\n",
    "# Mean absolute error regression loss\n",
    "mean_abs = sklearn.metrics.mean_absolute_error(y_test, y_pred)\n",
    "# Mean squared error regression loss\n",
    "mean_sq = sklearn.metrics.mean_squared_error(y_test, y_pred)\n",
    "# Median absolute error regression loss\n",
    "median_abs = sklearn.metrics.median_absolute_error(y_test, y_pred)\n",
    "# R^2 (coefficient of determination) regression score function\n",
    "r2 = sklearn.metrics.r2_score(y_test, y_pred)\n",
    "# Explained variance regression score function\n",
    "exp_var_score = sklearn.metrics.explained_variance_score(y_test, y_pred)"
   ]
  },
  {
   "cell_type": "code",
   "execution_count": 71,
   "metadata": {},
   "outputs": [
    {
     "data": {
      "text/plain": [
       "-0.98857505363705345"
      ]
     },
     "execution_count": 71,
     "metadata": {},
     "output_type": "execute_result"
    }
   ],
   "source": [
    "r2"
   ]
  },
  {
   "cell_type": "code",
   "execution_count": 72,
   "metadata": {},
   "outputs": [
    {
     "data": {
      "text/plain": [
       "-0.93897234131129848"
      ]
     },
     "execution_count": 72,
     "metadata": {},
     "output_type": "execute_result"
    }
   ],
   "source": [
    "exp_var_score"
   ]
  },
  {
   "cell_type": "code",
   "execution_count": null,
   "metadata": {
    "collapsed": true
   },
   "outputs": [],
   "source": []
  }
 ],
 "metadata": {
  "kernelspec": {
   "display_name": "Python 3",
   "language": "python",
   "name": "python3"
  },
  "language_info": {
   "codemirror_mode": {
    "name": "ipython",
    "version": 3
   },
   "file_extension": ".py",
   "mimetype": "text/x-python",
   "name": "python",
   "nbconvert_exporter": "python",
   "pygments_lexer": "ipython3",
   "version": "3.6.2"
  }
 },
 "nbformat": 4,
 "nbformat_minor": 2
}
