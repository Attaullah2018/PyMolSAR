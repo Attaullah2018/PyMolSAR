{
 "cells": [
  {
   "cell_type": "markdown",
   "metadata": {},
   "source": [
    "# Models"
   ]
  },
  {
   "cell_type": "code",
   "execution_count": 67,
   "metadata": {},
   "outputs": [],
   "source": [
    "from sklearn.datasets import load_iris\n",
    "from sklearn.model_selection import train_test_split\n",
    "from sklearn import datasets\n",
    "from sklearn.preprocessing import StandardScaler, LabelEncoder, Imputer\n",
    "from sklearn.ensemble import RandomForestClassifier\n",
    "from sklearn.naive_bayes import GaussianNB\n",
    "from sklearn.feature_selection import SelectKBest\n",
    "from sklearn.model_selection import train_test_split, GridSearchCV\n",
    "from sklearn.svm import LinearSVC\n",
    "from sklearn.linear_model import SGDClassifier\n",
    "from sklearn.neighbors import KNeighborsClassifier\n",
    "from smdt import data_processing\n",
    "from smdt import molecular_descriptors\n",
    "from sklearn import metrics\n",
    "from sklearn.pipeline import Pipeline\n",
    "import pandas as pd\n",
    "import matplotlib.pyplot as plt"
   ]
  },
  {
   "cell_type": "code",
   "execution_count": 39,
   "metadata": {},
   "outputs": [
    {
     "name": "stdout",
     "output_type": "stream",
     "text": [
      "Reference: \n",
      "Hu Li, Chun Wei Yap, Choong Yong Ung, Ying Xue, Zhi Wei Cao and Yu Zong Chen, J. Chem. Inf. Model. 2005\n"
     ]
    }
   ],
   "source": [
    "from smdt import datasets, molecular_descriptors, classification, metrics\n",
    "LiBloodBarrier = datasets.load_LiBloodBarrier()"
   ]
  },
  {
   "cell_type": "code",
   "execution_count": 40,
   "metadata": {
    "scrolled": true
   },
   "outputs": [
    {
     "name": "stdout",
     "output_type": "stream",
     "text": [
      "\n",
      "Calculating Molecular Descriptors...\n",
      "Row 387 out of 387\n",
      "Calculating Molecular Descriptors Completed.\n"
     ]
    }
   ],
   "source": [
    "data = molecular_descriptors.getAllDescriptors(LiBloodBarrier)"
   ]
  },
  {
   "cell_type": "code",
   "execution_count": 164,
   "metadata": {},
   "outputs": [],
   "source": [
    "y = data['Target']\n",
    "X = data.drop(['Target'], axis=1)"
   ]
  },
  {
   "cell_type": "code",
   "execution_count": 162,
   "metadata": {},
   "outputs": [],
   "source": [
    "X_train, X_test, y_train, y_test = train_test_split(X, y, stratify=y, random_state=42)"
   ]
  },
  {
   "cell_type": "code",
   "execution_count": 185,
   "metadata": {},
   "outputs": [],
   "source": [
    "from sklearn.metrics import f1_score, recall_score, make_scorer, classification_report, roc_curve, precision_recall_curve, precision_score, recall_score, accuracy_score, matthews_corrcoef, jaccard_similarity_score, zero_one_loss, auc, roc_auc_score\n",
    "from sklearn.feature_selection import f_classif, mutual_info_classif\n",
    "import numpy as np\n",
    "from sklearn.preprocessing import Imputer"
   ]
  },
  {
   "cell_type": "code",
   "execution_count": 151,
   "metadata": {},
   "outputs": [],
   "source": [
    "def plot_roc(y_test, y_score, target_label, model_name):\n",
    "    fpr_, tpr_, _ = roc_curve(y_test, y_score, pos_label=target_label)\n",
    "    plt.plot(fpr_, tpr_, lw=2, label='%s (area = %0.2f)' % (model_name, auc(fpr_,tpr_)))\n",
    "    plt.plot([0, 1], [0, 1], color='navy', lw=2, linestyle='--')\n",
    "    plt.xlim([0.0, 1.0])\n",
    "    plt.ylim([0.0, 1.05])\n",
    "    plt.xlabel('False Positive Rate')\n",
    "    plt.ylabel('True Positive Rate')\n",
    "    plt.title('Receiver Operating Characteristic')\n",
    "    plt.legend(loc=\"lower right\")\n",
    "    return"
   ]
  },
  {
   "cell_type": "code",
   "execution_count": 152,
   "metadata": {},
   "outputs": [],
   "source": [
    "def plot_prc(y_test, y_score, target_label, model_name):\n",
    "    precision, recall, _ = precision_recall_curve(y_test, y_score, pos_label=target_label)\n",
    "    plt.step(recall, precision, label=model_name, where='post')\n",
    "    plt.xlabel('Recall')\n",
    "    plt.ylabel('Precision')\n",
    "    plt.ylim([0.0, 1.05])\n",
    "    plt.xlim([0.0, 1.0])\n",
    "    plt.title('Precision-Recall Curve')\n",
    "    plt.legend(loc=\"lower right\")\n",
    "    return"
   ]
  },
  {
   "cell_type": "code",
   "execution_count": 153,
   "metadata": {},
   "outputs": [],
   "source": [
    "def get_modelName(clf):\n",
    "    model_name = []\n",
    "    for i in str(clf):\n",
    "        if i == '(':\n",
    "            break\n",
    "        model_name += i\n",
    "    model_name = \"\".join(model_name)\n",
    "    return model_name"
   ]
  },
  {
   "cell_type": "code",
   "execution_count": 154,
   "metadata": {},
   "outputs": [],
   "source": [
    "def get_metrics(model_name, y_test, y_pred, y_score, target_label):\n",
    "    # Metrics\n",
    "    fpr_, tpr_, _ = roc_curve(y_test, y_score, pos_label=target_label)\n",
    "    f1 = f1_score(y_test, y_pred, pos_label=target_label)\n",
    "    prec = precision_score(y_test, y_pred, pos_label=target_label)\n",
    "    rec = recall_score(y_test, y_pred, pos_label=target_label)\n",
    "    accuracy = accuracy_score(y_test, y_pred)\n",
    "    matt_corr = matthews_corrcoef(y_test, y_pred)\n",
    "    jac_sim = jaccard_similarity_score(y_test, y_pred)\n",
    "    z1l = zero_one_loss(y_test, y_pred)\n",
    "    roc_auc = auc(fpr_, tpr_)\n",
    "    \n",
    "    metric = pd.DataFrame.from_dict({'Model': model_name, 'Accuracy': accuracy, 'Area under ROC': roc_auc, 'Precision': prec,\n",
    "                                'Recall': rec, 'F1 Score': f1, 'Matthews Correlation': matt_corr, 'Jaccard Similarity': jac_sim,\n",
    "                                'Zero One Loss': z1l}, orient='index').T\n",
    "    return metric"
   ]
  },
  {
   "cell_type": "code",
   "execution_count": 186,
   "metadata": {},
   "outputs": [],
   "source": [
    "def fit_rf(X_train, X_test, y_train, y_test, target_label):\n",
    "    # Pipeline\n",
    "    a = Imputer(missing_values='NaN',axis=0)\n",
    "    b = StandardScaler()\n",
    "    c = SelectKBest()\n",
    "    clf = RandomForestClassifier()\n",
    "    model = Pipeline([('impute',a), ('scaling',b), ('anova',c), ('rf',clf)])\n",
    "    \n",
    "    # Grid Search CV\n",
    "    parameters = {'anova__score_func':[f_classif,mutual_info_classif],'anova__k':[10,50,100,200,300],\n",
    "                  'impute__strategy':['mean','median'],\n",
    "                  'rf__n_estimators': [10, 100], 'rf__criterion': ['gini', 'entropy'],\n",
    "                  'rf__max_features': ['auto', 'sqrt', 'log2'], 'rf__oob_score': [True, False],\n",
    "                  'rf__class_weight': ['balanced',None]}\n",
    "    score_fn = make_scorer(f1_score, pos_label=target_label)\n",
    "    grid = GridSearchCV(model, parameters, cv=10, scoring=score_fn)\n",
    "    grid.fit(X_train, y_train)\n",
    "    \n",
    "    # Features Used\n",
    "    final_pipeline = grid.best_estimator_\n",
    "    select_indices = final_pipeline.named_steps['anova'].transform(np.arange(X_train.shape[1]).reshape(1, -1))\n",
    "    feature_names = X_train.columns[select_indices]\n",
    "    # Predicting and scoring on test set\n",
    "    class_index = list(grid.classes_).index(target_label)\n",
    "    y_pred = grid.predict(X_test)\n",
    "    y_score = grid.predict_proba(X_test)[:,class_index]\n",
    "    model_name = get_modelName(clf)\n",
    "    \n",
    "    # Plot\n",
    "    fig = plt.figure(figsize=(15, 5))\n",
    "    plt.subplot(121)\n",
    "    # ROC curve\n",
    "    plot_roc(y_test, y_score, target_label, model_name)\n",
    "    # Precision Recall Curve\n",
    "    plt.subplot(122)\n",
    "    plot_prc(y_test, y_score, target_label, model_name)    \n",
    "    plt.show()\n",
    "\n",
    "    # Get Metrics\n",
    "    metric = get_metrics(model_name, y_test, y_pred, y_score, target_label)\n",
    "    print('Training data best accuracy: %.5f' % grid.best_score_)\n",
    "    print('Testing data accuracy: %.5f' % grid.score(X_test, y_test))\n",
    "    print()\n",
    "    print('Classification Report:')\n",
    "    print(classification_report(y_test, y_pred))\n",
    "\n",
    "    return metric, feature_names, y_score"
   ]
  },
  {
   "cell_type": "code",
   "execution_count": 181,
   "metadata": {},
   "outputs": [
    {
     "data": {
      "image/png": "[encoded data removed]",
      "text/plain": [
       "<matplotlib.figure.Figure at 0x2084bb41438>"
      ]
     },
     "metadata": {},
     "output_type": "display_data"
    },
    {
     "name": "stdout",
     "output_type": "stream",
     "text": [
      "Training data best accuracy: 0.74868\n",
      "Testing data accuracy: 0.73016\n",
      "\n",
      "Classification Report:\n",
      "             precision    recall  f1-score   support\n",
      "\n",
      "          n       0.74      0.72      0.73        32\n",
      "          p       0.86      0.88      0.87        65\n",
      "\n",
      "avg / total       0.82      0.82      0.82        97\n",
      "\n"
     ]
    }
   ],
   "source": [
    "d,e,f = fit_rf(X_train, X_test, y_train, y_test, 'n')"
   ]
  }
 ],
 "metadata": {
  "kernelspec": {
   "display_name": "Python 3",
   "language": "python",
   "name": "python3"
  },
  "language_info": {
   "codemirror_mode": {
    "name": "ipython",
    "version": 3
   },
   "file_extension": ".py",
   "mimetype": "text/x-python",
   "name": "python",
   "nbconvert_exporter": "python",
   "pygments_lexer": "ipython3",
   "version": "3.6.4"
  }
 },
 "nbformat": 4,
 "nbformat_minor": 2
}
