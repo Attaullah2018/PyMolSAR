{
 "cells": [
  {
   "cell_type": "markdown",
   "metadata": {},
   "source": [
    "# Predicting Melting Points of Molecules"
   ]
  },
  {
   "cell_type": "markdown",
   "metadata": {},
   "source": [
    "### Import"
   ]
  },
  {
   "cell_type": "code",
   "execution_count": 14,
   "metadata": {
    "collapsed": true
   },
   "outputs": [],
   "source": [
    "from smdt import datasets\n",
    "from smdt import molecular_descriptors\n",
    "from smdt import regression\n",
    "from sklearn.model_selection import train_test_split\n",
    "import pandas as pd\n",
    "import numpy as np"
   ]
  },
  {
   "cell_type": "markdown",
   "metadata": {},
   "source": [
    "### Data Reading"
   ]
  },
  {
   "cell_type": "code",
   "execution_count": 2,
   "metadata": {},
   "outputs": [
    {
     "name": "stdout",
     "output_type": "stream",
     "text": [
      "References: Karthikeyan, M.; Glen, R.C.; Bender, A. General melting point prediction based on a diverse compound dataset and artificial neural networks. J. Chem. Inf. Model.; 2005; 45(3); 581-590\n",
      "n_rows: 4450\n",
      "n_columns: 2\n",
      "column names: ['SMILES', 'Target']\n"
     ]
    }
   ],
   "source": [
    "data = datasets.load_MeltingPoint()\n",
    "print('n_rows: %d'%(data.shape[0]))\n",
    "print('n_columns: %d'%(data.shape[1]))\n",
    "print('column names: %s' %list(data.columns))"
   ]
  },
  {
   "cell_type": "markdown",
   "metadata": {},
   "source": [
    "### Calculate Molecular Descriptors"
   ]
  },
  {
   "cell_type": "code",
   "execution_count": 39,
   "metadata": {},
   "outputs": [
    {
     "name": "stdout",
     "output_type": "stream",
     "text": [
      "\n",
      "Calculating Molecular Descriptors...\n",
      "Row 4333 out of 4333\n",
      "Calculating Molecular Descriptors Completed.\n"
     ]
    }
   ],
   "source": [
    "data = molecular_descriptors.getAllDescriptors(data)\n",
    "data.to_csv('Data_with_Molecular_Descriptors.csv', index=False)"
   ]
  },
  {
   "cell_type": "code",
   "execution_count": 3,
   "metadata": {},
   "outputs": [
    {
     "name": "stdout",
     "output_type": "stream",
     "text": [
      "n_rows: 4333\n",
      "n_columns: 760\n"
     ]
    }
   ],
   "source": [
    "data = pd.read_csv('MeltingPoint_All_Descriptors.csv')\n",
    "print('n_rows: %d'%(data.shape[0]))\n",
    "print('n_columns: %d'%(data.shape[1]))"
   ]
  },
  {
   "cell_type": "code",
   "execution_count": 4,
   "metadata": {
    "collapsed": true
   },
   "outputs": [],
   "source": [
    "y = data['Target']\n",
    "X = data.drop(['Target'], axis=1)"
   ]
  },
  {
   "cell_type": "code",
   "execution_count": 5,
   "metadata": {
    "collapsed": true
   },
   "outputs": [],
   "source": [
    "X_train, X_test, y_train, y_test = train_test_split(X, y, random_state=42)"
   ]
  },
  {
   "cell_type": "markdown",
   "metadata": {},
   "source": [
    "### Models"
   ]
  },
  {
   "cell_type": "code",
   "execution_count": null,
   "metadata": {},
   "outputs": [],
   "source": [
    "model1, y_pred1, metrics1 = regression.fit_Ridge(X_train, X_test, y_train, y_test)\n",
    "np.save('ypred1',y_pred1)\n",
    "np.save('metrics1',metrics1)"
   ]
  },
  {
   "cell_type": "code",
   "execution_count": null,
   "metadata": {},
   "outputs": [],
   "source": [
    "model2, y_pred2, metrics2 = regression.fit_Lasso(X_train, X_test, y_train, y_test)\n",
    "np.save('ypred2',y_pred2)\n",
    "np.save('metrics2',metrics2)"
   ]
  },
  {
   "cell_type": "code",
   "execution_count": null,
   "metadata": {
    "collapsed": true
   },
   "outputs": [],
   "source": [
    "model3, y_pred3, metrics3 = regression.fit_ElasticNet(X_train, X_test, y_train, y_test)\n",
    "np.save('ypred3',y_pred3)\n",
    "np.save('metrics3',metrics3)"
   ]
  },
  {
   "cell_type": "code",
   "execution_count": null,
   "metadata": {
    "collapsed": true
   },
   "outputs": [],
   "source": [
    "model4, y_pred4, metrics4 = regression.fit_LinearSVR(X_train, X_test, y_train, y_test)\n",
    "np.save('ypred4',y_pred4)\n",
    "np.save('metrics4',metrics4)"
   ]
  },
  {
   "cell_type": "code",
   "execution_count": null,
   "metadata": {
    "collapsed": true
   },
   "outputs": [],
   "source": [
    "model5, y_pred5, metrics5 = regression.fit_RandomForestRegressor(X_train, X_test, y_train, y_test)\n",
    "np.save('ypred5',y_pred5)\n",
    "np.save('metrics5',metrics5)"
   ]
  }
 ],
 "metadata": {
  "kernelspec": {
   "display_name": "Python 3",
   "language": "python",
   "name": "python3"
  },
  "language_info": {
   "codemirror_mode": {
    "name": "ipython",
    "version": 3
   },
   "file_extension": ".py",
   "mimetype": "text/x-python",
   "name": "python",
   "nbconvert_exporter": "python",
   "pygments_lexer": "ipython3",
   "version": "3.6.2"
  }
 },
 "nbformat": 4,
 "nbformat_minor": 1
}
