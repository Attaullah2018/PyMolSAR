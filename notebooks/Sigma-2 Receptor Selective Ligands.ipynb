{
 "cells": [
  {
   "cell_type": "markdown",
   "metadata": {},
   "source": [
    "# S2RSLDB: a comprehensive manually curated, internet-accessible database of the sigma-2 receptor selective ligands"
   ]
  },
  {
   "cell_type": "markdown",
   "metadata": {},
   "source": [
    "### Imports"
   ]
  },
  {
   "cell_type": "code",
   "execution_count": 2,
   "metadata": {},
   "outputs": [],
   "source": [
    "from smdt import datasets\n",
    "from smdt import data_processing\n",
    "from smdt import molecular_descriptors\n",
    "from smdt import regression\n",
    "import pandas as pd"
   ]
  },
  {
   "cell_type": "markdown",
   "metadata": {},
   "source": [
    "### Data"
   ]
  },
  {
   "cell_type": "markdown",
   "metadata": {},
   "source": [
    "#### Reading Data"
   ]
  },
  {
   "cell_type": "code",
   "execution_count": 24,
   "metadata": {},
   "outputs": [
    {
     "name": "stdout",
     "output_type": "stream",
     "text": [
      "Reference: \n",
      "G. Nastasi, C. Miceli, V. Pittala, M.N. Modica, O. Prezzavento, G. Romeo, A. Rescifina, A. Marrazzo, E. AmataS2RSLDB: a comprehensive manually curated, internet-accessible database of the sigma-2 receptor selective ligandsJ. Cheminform., 9 (2017), p. 3\n"
     ]
    }
   ],
   "source": [
    "Sigma2 = datasets.load_Sigma2ReceptorLigands()"
   ]
  },
  {
   "cell_type": "code",
   "execution_count": 27,
   "metadata": {},
   "outputs": [
    {
     "data": {
      "text/plain": [
       "10.397940008672037"
      ]
     },
     "execution_count": 27,
     "metadata": {},
     "output_type": "execute_result"
    }
   ],
   "source": [
    "Sigma2['Target'][0]"
   ]
  },
  {
   "cell_type": "code",
   "execution_count": 44,
   "metadata": {},
   "outputs": [
    {
     "data": {
      "text/plain": [
       "9.67778070526608"
      ]
     },
     "execution_count": 44,
     "metadata": {},
     "output_type": "execute_result"
    }
   ],
   "source": [
    "import numpy as np\n",
    "-np.log10(2.1e-10)"
   ]
  },
  {
   "cell_type": "markdown",
   "metadata": {},
   "source": [
    "#### Calculating Descriptors"
   ]
  },
  {
   "cell_type": "code",
   "execution_count": 11,
   "metadata": {
    "scrolled": true
   },
   "outputs": [
    {
     "name": "stdout",
     "output_type": "stream",
     "text": [
      "\n",
      "Calculating Molecular Descriptors...\n",
      "Row 651 out of 651\n",
      "Calculating Molecular Descriptors Completed.\n"
     ]
    }
   ],
   "source": [
    "data = molecular_descriptors.getAllDescriptors(Sigma2)"
   ]
  },
  {
   "cell_type": "code",
   "execution_count": 3,
   "metadata": {},
   "outputs": [],
   "source": [
    "data = pd.read_csv('data.csv')"
   ]
  },
  {
   "cell_type": "markdown",
   "metadata": {},
   "source": [
    "#### Data Cleaning"
   ]
  },
  {
   "cell_type": "code",
   "execution_count": 4,
   "metadata": {},
   "outputs": [],
   "source": [
    "y = data['Target']\n",
    "X = data.drop(['Target'], axis=1)"
   ]
  },
  {
   "cell_type": "markdown",
   "metadata": {},
   "source": [
    "#### Train Test Split"
   ]
  },
  {
   "cell_type": "code",
   "execution_count": 18,
   "metadata": {},
   "outputs": [],
   "source": [
    "from sklearn.model_selection import train_test_split\n",
    "X_train, X_test, y_train, y_test = train_test_split(X, y, test_size=0.2, random_state=42)"
   ]
  },
  {
   "cell_type": "code",
   "execution_count": 7,
   "metadata": {},
   "outputs": [
    {
     "data": {
      "text/plain": [
       "(520, 759)"
      ]
     },
     "execution_count": 7,
     "metadata": {},
     "output_type": "execute_result"
    }
   ],
   "source": [
    "X_train.shape"
   ]
  },
  {
   "cell_type": "code",
   "execution_count": 6,
   "metadata": {},
   "outputs": [
    {
     "data": {
      "text/plain": [
       "(131, 759)"
      ]
     },
     "execution_count": 6,
     "metadata": {},
     "output_type": "execute_result"
    }
   ],
   "source": [
    "X_test.shape"
   ]
  },
  {
   "cell_type": "code",
   "execution_count": 13,
   "metadata": {},
   "outputs": [],
   "source": [
    "from sklearn.preprocessing import StandardScaler, Imputer\n",
    "from sklearn.feature_selection import SelectKBest, mutual_info_regression\n",
    "a = Imputer(missing_values='NaN', strategy='median', axis=0)\n",
    "b = StandardScaler()\n",
    "c = SelectKBest(score_func=mutual_info_regression)\n",
    "X_train = b.fit_transform(X_train)"
   ]
  },
  {
   "cell_type": "code",
   "execution_count": 15,
   "metadata": {},
   "outputs": [],
   "source": [
    "X_train = c.fit_transform(X_train,y_train)"
   ]
  },
  {
   "cell_type": "code",
   "execution_count": 19,
   "metadata": {},
   "outputs": [],
   "source": [
    "mask = c.get_support()\n",
    "new_features = X_train.columns[mask]"
   ]
  },
  {
   "cell_type": "code",
   "execution_count": 20,
   "metadata": {},
   "outputs": [
    {
     "data": {
      "text/plain": [
       "Index(['bcutv13', 'bcutv10', 'bcutv2', 'bcutp2', 'Qass', 'QNss', 'Smin16',\n",
       "       'GATSv5', 'MTPSA', 'slogPVSA2'],\n",
       "      dtype='object')"
      ]
     },
     "execution_count": 20,
     "metadata": {},
     "output_type": "execute_result"
    }
   ],
   "source": [
    "new_features"
   ]
  },
  {
   "cell_type": "markdown",
   "metadata": {},
   "source": [
    "### Models"
   ]
  },
  {
   "cell_type": "markdown",
   "metadata": {},
   "source": [
    "#### Random Forest"
   ]
  },
  {
   "cell_type": "code",
   "execution_count": 6,
   "metadata": {},
   "outputs": [],
   "source": [
    "model1, y_pred1, metrics1 = regression.fit_RandomForestRegressor(X_train, X_test, y_train, y_test)"
   ]
  },
  {
   "cell_type": "markdown",
   "metadata": {},
   "source": [
    "#### Lasso"
   ]
  },
  {
   "cell_type": "code",
   "execution_count": 9,
   "metadata": {},
   "outputs": [],
   "source": [
    "model2, y_pred2, metric2 = regression.fit_Lasso(X_train, X_test, y_train, y_test)"
   ]
  },
  {
   "cell_type": "markdown",
   "metadata": {},
   "source": [
    "#### Ridge"
   ]
  },
  {
   "cell_type": "code",
   "execution_count": 10,
   "metadata": {},
   "outputs": [],
   "source": [
    "model3, y_pred3, metric3 = regression.fit_Ridge(X_train, X_test, y_train, y_test)"
   ]
  },
  {
   "cell_type": "markdown",
   "metadata": {},
   "source": [
    "#### ElasticNet"
   ]
  },
  {
   "cell_type": "code",
   "execution_count": 11,
   "metadata": {},
   "outputs": [],
   "source": [
    "model4, y_pred4, metric4 = regression.fit_ElasticNet(X_train, X_test, y_train, y_test)"
   ]
  },
  {
   "cell_type": "markdown",
   "metadata": {},
   "source": [
    "#### Linear SVR"
   ]
  },
  {
   "cell_type": "code",
   "execution_count": 12,
   "metadata": {},
   "outputs": [],
   "source": [
    "model5, y_pred5, metric5 = regression.fit_LinearSVR(X_train, X_test, y_train, y_test)"
   ]
  },
  {
   "cell_type": "code",
   "execution_count": 4,
   "metadata": {},
   "outputs": [],
   "source": [
    "import numpy as np\n",
    "y_pred1 = np.load('ypred1.npy')\n",
    "y_pred2 = np.load('ypred2.npy')\n",
    "y_pred3 = np.load('ypred3.npy')\n",
    "y_pred4 = np.load('ypred4.npy')\n",
    "y_pred5 = np.load('ypred5.npy')\n",
    "\n",
    "metric1 = np.load('metric1.npy')\n",
    "metric2 = np.load('metric2.npy')\n",
    "metric3 = np.load('metric3.npy')\n",
    "metric4 = np.load('metric4.npy')\n",
    "metric5 = np.load('metric5.npy')"
   ]
  },
  {
   "cell_type": "markdown",
   "metadata": {},
   "source": [
    "### Parity Plots"
   ]
  },
  {
   "cell_type": "code",
   "execution_count": 9,
   "metadata": {},
   "outputs": [
    {
     "data": {
      "image/png": "[encoded data removed]",
      "text/plain": [
       "<matplotlib.figure.Figure at 0x1dd3f81b7b8>"
      ]
     },
     "metadata": {},
     "output_type": "display_data"
    }
   ],
   "source": [
    "import matplotlib.pyplot as plt\n",
    "\n",
    "plt.figure(figsize=(20,4))\n",
    "plt.subplot(151)\n",
    "plt.scatter(y_test, y_pred1, edgecolors=(0, 0, 0), alpha=0.5)\n",
    "plt.plot([y_test.min(), y_test.max()], [y_test.min(), y_test.max()],'r--', lw=4)\n",
    "plt.xlabel('Measured')\n",
    "plt.ylabel('Predicted')\n",
    "plt.title('Parity Plot for Random Forest')\n",
    "\n",
    "plt.subplot(152)\n",
    "plt.scatter(y_test, y_pred2, edgecolors=(0, 0, 0), alpha=0.5)\n",
    "plt.plot([y_test.min(), y_test.max()], [y_test.min(), y_test.max()],'r--', lw=4)\n",
    "plt.xlabel('Measured')\n",
    "plt.ylabel('Predicted')\n",
    "plt.title('Parity Plot for Lasso')\n",
    "\n",
    "plt.subplot(153)\n",
    "plt.scatter(y_test, y_pred3, edgecolors=(0, 0, 0), alpha=0.5)\n",
    "plt.plot([y_test.min(), y_test.max()], [y_test.min(), y_test.max()],'r--', lw=4)\n",
    "plt.xlabel('Measured')\n",
    "plt.ylabel('Predicted')\n",
    "plt.title('Parity Plot for Ridge')\n",
    "\n",
    "plt.subplot(154)\n",
    "plt.scatter(y_test, y_pred4, edgecolors=(0, 0, 0), alpha=0.5)\n",
    "plt.plot([y_test.min(), y_test.max()], [y_test.min(), y_test.max()],'r--', lw=4)\n",
    "plt.xlabel('Measured')\n",
    "plt.ylabel('Predicted')\n",
    "plt.title('Parity Plot for ElasticNet')\n",
    "\n",
    "plt.subplot(155)\n",
    "plt.scatter(y_test, y_pred5, edgecolors=(0, 0, 0), alpha=0.5)\n",
    "plt.plot([y_test.min(), y_test.max()], [y_test.min(), y_test.max()],'r--', lw=4)\n",
    "plt.xlabel('Measured')\n",
    "plt.ylabel('Predicted')\n",
    "plt.title('Parity Plot for Linear SVR')\n",
    "\n",
    "plt.show()"
   ]
  },
  {
   "cell_type": "code",
   "execution_count": 44,
   "metadata": {},
   "outputs": [
    {
     "data": {
      "text/plain": [
       "array([0.42739244, 0.42895552, 0.54878165, 0.53592752, 0.3713552 ,\n",
       "       0.42739244])"
      ]
     },
     "execution_count": 44,
     "metadata": {},
     "output_type": "execute_result"
    }
   ],
   "source": [
    "metric1"
   ]
  },
  {
   "cell_type": "code",
   "execution_count": 49,
   "metadata": {},
   "outputs": [],
   "source": [
    "results = pd.DataFrame([metric1,metric2,metric3,metric4,metric5])\n",
    "name = ['Random Forest','Lasso','Ridge','ElasticNet','Linear SVR']\n",
    "results[0] = name\n",
    "results.columns = ['Model','r2 score','mae','mse','median ae','explained variance score']"
   ]
  },
  {
   "cell_type": "code",
   "execution_count": 50,
   "metadata": {},
   "outputs": [
    {
     "data": {
      "text/html": [
       "<div>\n",
       "<style scoped>\n",
       "    .dataframe tbody tr th:only-of-type {\n",
       "        vertical-align: middle;\n",
       "    }\n",
       "\n",
       "    .dataframe tbody tr th {\n",
       "        vertical-align: top;\n",
       "    }\n",
       "\n",
       "    .dataframe thead th {\n",
       "        text-align: right;\n",
       "    }\n",
       "</style>\n",
       "<table border=\"1\" class=\"dataframe\">\n",
       "  <thead>\n",
       "    <tr style=\"text-align: right;\">\n",
       "      <th></th>\n",
       "      <th>Model</th>\n",
       "      <th>r2 score</th>\n",
       "      <th>mae</th>\n",
       "      <th>mse</th>\n",
       "      <th>median ae</th>\n",
       "      <th>explained variance score</th>\n",
       "    </tr>\n",
       "  </thead>\n",
       "  <tbody>\n",
       "    <tr>\n",
       "      <th>0</th>\n",
       "      <td>Random Forest</td>\n",
       "      <td>0.428956</td>\n",
       "      <td>0.548782</td>\n",
       "      <td>0.535928</td>\n",
       "      <td>0.371355</td>\n",
       "      <td>0.427392</td>\n",
       "    </tr>\n",
       "    <tr>\n",
       "      <th>1</th>\n",
       "      <td>Lasso</td>\n",
       "      <td>0.243192</td>\n",
       "      <td>0.696571</td>\n",
       "      <td>0.709127</td>\n",
       "      <td>0.580526</td>\n",
       "      <td>0.242338</td>\n",
       "    </tr>\n",
       "    <tr>\n",
       "      <th>2</th>\n",
       "      <td>Ridge</td>\n",
       "      <td>0.221448</td>\n",
       "      <td>0.698508</td>\n",
       "      <td>0.729156</td>\n",
       "      <td>0.591528</td>\n",
       "      <td>0.220939</td>\n",
       "    </tr>\n",
       "    <tr>\n",
       "      <th>3</th>\n",
       "      <td>ElasticNet</td>\n",
       "      <td>0.242132</td>\n",
       "      <td>0.699405</td>\n",
       "      <td>0.710133</td>\n",
       "      <td>0.597323</td>\n",
       "      <td>0.241264</td>\n",
       "    </tr>\n",
       "    <tr>\n",
       "      <th>4</th>\n",
       "      <td>Linear SVR</td>\n",
       "      <td>0.171967</td>\n",
       "      <td>0.709344</td>\n",
       "      <td>0.777372</td>\n",
       "      <td>0.573395</td>\n",
       "      <td>0.169423</td>\n",
       "    </tr>\n",
       "  </tbody>\n",
       "</table>\n",
       "</div>"
      ],
      "text/plain": [
       "           Model  r2 score       mae       mse  median ae  \\\n",
       "0  Random Forest  0.428956  0.548782  0.535928   0.371355   \n",
       "1          Lasso  0.243192  0.696571  0.709127   0.580526   \n",
       "2          Ridge  0.221448  0.698508  0.729156   0.591528   \n",
       "3     ElasticNet  0.242132  0.699405  0.710133   0.597323   \n",
       "4     Linear SVR  0.171967  0.709344  0.777372   0.573395   \n",
       "\n",
       "   explained variance score  \n",
       "0                  0.427392  \n",
       "1                  0.242338  \n",
       "2                  0.220939  \n",
       "3                  0.241264  \n",
       "4                  0.169423  "
      ]
     },
     "execution_count": 50,
     "metadata": {},
     "output_type": "execute_result"
    }
   ],
   "source": [
    "results"
   ]
  },
  {
   "cell_type": "code",
   "execution_count": 46,
   "metadata": {},
   "outputs": [
    {
     "data": {
      "text/html": [
       "<div>\n",
       "<style scoped>\n",
       "    .dataframe tbody tr th:only-of-type {\n",
       "        vertical-align: middle;\n",
       "    }\n",
       "\n",
       "    .dataframe tbody tr th {\n",
       "        vertical-align: top;\n",
       "    }\n",
       "\n",
       "    .dataframe thead th {\n",
       "        text-align: right;\n",
       "    }\n",
       "</style>\n",
       "<table border=\"1\" class=\"dataframe\">\n",
       "  <thead>\n",
       "    <tr style=\"text-align: right;\">\n",
       "      <th></th>\n",
       "      <th>SMILES</th>\n",
       "      <th>Target</th>\n",
       "    </tr>\n",
       "  </thead>\n",
       "  <tbody>\n",
       "    <tr>\n",
       "      <th>0</th>\n",
       "      <td>COC1=C(OC)C=C2CN(CCCCN3C4=CC=CC=C4C4=C3C=CC=C4...</td>\n",
       "      <td>10.397940</td>\n",
       "    </tr>\n",
       "    <tr>\n",
       "      <th>1</th>\n",
       "      <td>COC1=CC2=C(CN(CCCCNC(=O)C3=CN(N=N3)C3=CC=CC=C3...</td>\n",
       "      <td>8.823909</td>\n",
       "    </tr>\n",
       "    <tr>\n",
       "      <th>2</th>\n",
       "      <td>CC1(C)CCCN(CCCCC2=CCCC3=CC=CC=C23)C1</td>\n",
       "      <td>8.958607</td>\n",
       "    </tr>\n",
       "    <tr>\n",
       "      <th>3</th>\n",
       "      <td>COC1=C(OC)C=C2CN(CCCCNC(=O)C3=CC(I)=CC(OC)=C3O...</td>\n",
       "      <td>9.585027</td>\n",
       "    </tr>\n",
       "    <tr>\n",
       "      <th>4</th>\n",
       "      <td>COC1=CC=C(C=C1)N1C=C(N=N1)C(=O)NCCCCN1CCC2=CC(...</td>\n",
       "      <td>8.259637</td>\n",
       "    </tr>\n",
       "    <tr>\n",
       "      <th>5</th>\n",
       "      <td>COC1=CC=CC(=C1)N1C=C(N=N1)C(=O)NCCCCN1CCC2=C(C...</td>\n",
       "      <td>8.522879</td>\n",
       "    </tr>\n",
       "    <tr>\n",
       "      <th>6</th>\n",
       "      <td>COC1=CC2=C(CN(CCCCNC(=O)C3=CN(CC4=CC=C(O)C=C4)...</td>\n",
       "      <td>7.935542</td>\n",
       "    </tr>\n",
       "    <tr>\n",
       "      <th>7</th>\n",
       "      <td>FC1=CC=C(C=C1)C1=CC=C2OC(=O)N(CCCCN3CCN(CC3)C3...</td>\n",
       "      <td>11.214670</td>\n",
       "    </tr>\n",
       "    <tr>\n",
       "      <th>8</th>\n",
       "      <td>COC1=CC=CC=C1CN1C=C(N=N1)C(=O)NCCCCN1CCC2=C(C1...</td>\n",
       "      <td>8.013228</td>\n",
       "    </tr>\n",
       "    <tr>\n",
       "      <th>9</th>\n",
       "      <td>COC1=CC2=C(CN(CCCCNC(=O)C3=CN(N=N3)C3=CC=C(OCC...</td>\n",
       "      <td>7.659556</td>\n",
       "    </tr>\n",
       "    <tr>\n",
       "      <th>10</th>\n",
       "      <td>COC1=C(NC(=O)OC2CC3CCCC(C2)N3CC2=CC=C(CCF)C=C2...</td>\n",
       "      <td>9.086186</td>\n",
       "    </tr>\n",
       "    <tr>\n",
       "      <th>11</th>\n",
       "      <td>COC1=C(OC)C=C2CN(CCCCNC(=O)C3=CC=CC=C3)CCC2=C1</td>\n",
       "      <td>5.276544</td>\n",
       "    </tr>\n",
       "    <tr>\n",
       "      <th>12</th>\n",
       "      <td>FC1=CC=C(C=C1)C1(CC2CCC1C2)NCCCOC1CCCCO1</td>\n",
       "      <td>8.259637</td>\n",
       "    </tr>\n",
       "    <tr>\n",
       "      <th>13</th>\n",
       "      <td>COC1=C(OC)C=C2CN(CCCCNC(=O)C3=CC(Br)=CC(OC)=C3...</td>\n",
       "      <td>9.086186</td>\n",
       "    </tr>\n",
       "    <tr>\n",
       "      <th>14</th>\n",
       "      <td>COC1=C(OC)C=C2CN(CCCCNC(=O)C3=CC(Br)=CC=C3OCCF...</td>\n",
       "      <td>9.187087</td>\n",
       "    </tr>\n",
       "    <tr>\n",
       "      <th>15</th>\n",
       "      <td>COC1=C(OC)C=C2CN(CCCCNC(=O)C3=CC(Br)=CC(OC)=C3...</td>\n",
       "      <td>8.086186</td>\n",
       "    </tr>\n",
       "    <tr>\n",
       "      <th>16</th>\n",
       "      <td>COC1=C(OC)C=C2CN(CCCCNC(=O)C3=CC(I)=CC=C3OCCF)...</td>\n",
       "      <td>8.974694</td>\n",
       "    </tr>\n",
       "    <tr>\n",
       "      <th>17</th>\n",
       "      <td>COC1=CC(CN2C=C(N=N2)C(=O)NCCCCN2CCC3=C(C2)C=C(...</td>\n",
       "      <td>7.970616</td>\n",
       "    </tr>\n",
       "    <tr>\n",
       "      <th>18</th>\n",
       "      <td>COC1=C(OC)C=C2CN(CCCCN3C=C(C4=C3C=CC=C4)C3=CC=...</td>\n",
       "      <td>8.359519</td>\n",
       "    </tr>\n",
       "    <tr>\n",
       "      <th>19</th>\n",
       "      <td>C(CNC1(CC2CCC1C2)C1=CC=CC=C1)CN1CCCCC1</td>\n",
       "      <td>8.017729</td>\n",
       "    </tr>\n",
       "    <tr>\n",
       "      <th>20</th>\n",
       "      <td>COC1=CC=C(CN2C=C(N=N2)C(=O)NCCN2CCC3=CC(OC)=C(...</td>\n",
       "      <td>7.030584</td>\n",
       "    </tr>\n",
       "    <tr>\n",
       "      <th>21</th>\n",
       "      <td>CN1C(=O)N(CCCCN2CCN(CC2)C2=CC=C(F)C=C2)C2=CC=C...</td>\n",
       "      <td>9.337242</td>\n",
       "    </tr>\n",
       "    <tr>\n",
       "      <th>22</th>\n",
       "      <td>COC1=CC2=C(CN(CCCCCCNC(=O)C3=CC4=C(O3)C=CC(I)=...</td>\n",
       "      <td>9.055517</td>\n",
       "    </tr>\n",
       "    <tr>\n",
       "      <th>23</th>\n",
       "      <td>COC1=CC=C(C)C=C1C(=O)NCCN1CCC2=CC(OC)=C(OC)C=C2C1</td>\n",
       "      <td>7.876148</td>\n",
       "    </tr>\n",
       "    <tr>\n",
       "      <th>24</th>\n",
       "      <td>COC1=CC2=C(CN(CCCCNC(=O)C3=CN(CC4=CC=CC(OCCF)=...</td>\n",
       "      <td>7.206908</td>\n",
       "    </tr>\n",
       "    <tr>\n",
       "      <th>25</th>\n",
       "      <td>COC1=CC2=C(CN(CCCCNC(=O)C3=CN(N=N3)C3=CC=CC(OC...</td>\n",
       "      <td>7.600326</td>\n",
       "    </tr>\n",
       "    <tr>\n",
       "      <th>26</th>\n",
       "      <td>COC1=CC2=C(CN(CCCCNC(=O)C3=CN(N=N3)C3=CC=CC=C3...</td>\n",
       "      <td>7.619789</td>\n",
       "    </tr>\n",
       "    <tr>\n",
       "      <th>27</th>\n",
       "      <td>O=C1N(CCCCN2CCN(C3=CC=C(F)C=C3)CC2)C4=C(C=C(N=...</td>\n",
       "      <td>7.835647</td>\n",
       "    </tr>\n",
       "    <tr>\n",
       "      <th>28</th>\n",
       "      <td>COC1=CC=C(CN2C=C(N=N2)C(=O)NCCCCN2CCC3=C(C2)C=...</td>\n",
       "      <td>8.301030</td>\n",
       "    </tr>\n",
       "    <tr>\n",
       "      <th>29</th>\n",
       "      <td>FC1=CC=C(C=C1)C1(CC2CCC1C2)NCCCN1CCCCC1</td>\n",
       "      <td>7.795880</td>\n",
       "    </tr>\n",
       "    <tr>\n",
       "      <th>...</th>\n",
       "      <td>...</td>\n",
       "      <td>...</td>\n",
       "    </tr>\n",
       "    <tr>\n",
       "      <th>621</th>\n",
       "      <td>FC1=CC=CC(CN2C3CCC2CC3)=C1</td>\n",
       "      <td>6.600326</td>\n",
       "    </tr>\n",
       "    <tr>\n",
       "      <th>622</th>\n",
       "      <td>C(CC1=CC=CC=N1)N1CCCC1</td>\n",
       "      <td>5.792904</td>\n",
       "    </tr>\n",
       "    <tr>\n",
       "      <th>623</th>\n",
       "      <td>COC1=CC=C(CN2C3CCC2CC3)C=C1OC</td>\n",
       "      <td>7.365523</td>\n",
       "    </tr>\n",
       "    <tr>\n",
       "      <th>624</th>\n",
       "      <td>C(N1CCCC1)C1=CC=CC=C1</td>\n",
       "      <td>6.179799</td>\n",
       "    </tr>\n",
       "    <tr>\n",
       "      <th>625</th>\n",
       "      <td>BrC1=CC2=C(NC=C2CCN(CC=C)CC=C)C=C1</td>\n",
       "      <td>7.010000</td>\n",
       "    </tr>\n",
       "    <tr>\n",
       "      <th>626</th>\n",
       "      <td>COC1=CC2=C(NC=C2CCN(CC=C)CC=C)C=C1</td>\n",
       "      <td>6.600000</td>\n",
       "    </tr>\n",
       "    <tr>\n",
       "      <th>627</th>\n",
       "      <td>N1(CC2=CC=CC=C2)CCN(C[C@H]3O[C@](C4=CC=CC=C4)(...</td>\n",
       "      <td>7.750000</td>\n",
       "    </tr>\n",
       "    <tr>\n",
       "      <th>628</th>\n",
       "      <td>N1(CCOC(C2=CC=CC=C2)C3=CC=CC=C3)CCN(CC4=CC=CC=...</td>\n",
       "      <td>7.950000</td>\n",
       "    </tr>\n",
       "    <tr>\n",
       "      <th>629</th>\n",
       "      <td>CC(C)(C(=O)OCCN1CCN(CC1)C1=CC=C(C2=NON=C12)[N+...</td>\n",
       "      <td>6.555955</td>\n",
       "    </tr>\n",
       "    <tr>\n",
       "      <th>630</th>\n",
       "      <td>[O-][N+](=O)C1=CC=C(N2CCN(CCOC(=O)CC3=CC(Cl)=C...</td>\n",
       "      <td>6.405607</td>\n",
       "    </tr>\n",
       "    <tr>\n",
       "      <th>631</th>\n",
       "      <td>O=C(C1(CCCCC1)C2=CC=CC=C2)OCCN3CCN(C4=CC=C([N+...</td>\n",
       "      <td>7.245652</td>\n",
       "    </tr>\n",
       "    <tr>\n",
       "      <th>632</th>\n",
       "      <td>N1(C2=CC=C3C([C@@H]4N(CC5=CC=CC=C5)CC[C@H]3C4)...</td>\n",
       "      <td>5.985479</td>\n",
       "    </tr>\n",
       "    <tr>\n",
       "      <th>633</th>\n",
       "      <td>ClC1=CC(Cl)=CC(CN2[C@H](C3)C4=CC(N5CCOCC5)=CC=...</td>\n",
       "      <td>7.036212</td>\n",
       "    </tr>\n",
       "    <tr>\n",
       "      <th>634</th>\n",
       "      <td>FC1=CC=CC=C1CN2[C@H](C3)C4=CC(N5CCOCC5)=CC=C4[...</td>\n",
       "      <td>5.900319</td>\n",
       "    </tr>\n",
       "    <tr>\n",
       "      <th>635</th>\n",
       "      <td>C(N1CC[C@H]2C[C@@H]1C1=CC(=CC=C21)N1CCCCC1)C1=...</td>\n",
       "      <td>6.497573</td>\n",
       "    </tr>\n",
       "    <tr>\n",
       "      <th>636</th>\n",
       "      <td>ClC1=CC=CC(CN2CC[C@H]3C[C@@H]2C2=CC(=CC=C32)N2...</td>\n",
       "      <td>6.127261</td>\n",
       "    </tr>\n",
       "    <tr>\n",
       "      <th>637</th>\n",
       "      <td>C(N1CC[C@H]2C[C@@H]1C1=CC(=CC=C21)C1=CC=C2OCOC...</td>\n",
       "      <td>6.140862</td>\n",
       "    </tr>\n",
       "    <tr>\n",
       "      <th>638</th>\n",
       "      <td>FC(C1=CC=C(C2=CC=C3C([C@@H]4N(C)CC[C@H]3C4)=C2...</td>\n",
       "      <td>7.366532</td>\n",
       "    </tr>\n",
       "    <tr>\n",
       "      <th>639</th>\n",
       "      <td>FC(C1=CC=C(C2=CC=C3C([C@@H]4N(CCC5=CC=CC=C5)CC...</td>\n",
       "      <td>6.779892</td>\n",
       "    </tr>\n",
       "    <tr>\n",
       "      <th>640</th>\n",
       "      <td>CC1=CC(C2=CC=C3C([C@@H]4N(C)CC[C@H]3C4)=C2)=CC=C1</td>\n",
       "      <td>6.876148</td>\n",
       "    </tr>\n",
       "    <tr>\n",
       "      <th>641</th>\n",
       "      <td>CC1=CC(C2=CC=C3C([C@@H]4N(CC5=CC=C(OCO6)C6=C5)...</td>\n",
       "      <td>6.081970</td>\n",
       "    </tr>\n",
       "    <tr>\n",
       "      <th>642</th>\n",
       "      <td>CN1CCN(CC1)C1=CC=C2[C@@H]3C[C@@H](N(CC3)C(=O)O...</td>\n",
       "      <td>7.148742</td>\n",
       "    </tr>\n",
       "    <tr>\n",
       "      <th>643</th>\n",
       "      <td>CN1CCN(C2=CC=C3C([C@@H]4N(S(=O)(C5=CC(Cl)=CC(C...</td>\n",
       "      <td>7.568636</td>\n",
       "    </tr>\n",
       "    <tr>\n",
       "      <th>644</th>\n",
       "      <td>O=S(N1[C@H](C2)C3=CC(N4CCN(C)CC4)=CC=C3[C@H]2C...</td>\n",
       "      <td>6.116907</td>\n",
       "    </tr>\n",
       "    <tr>\n",
       "      <th>645</th>\n",
       "      <td>O=C(N1[C@H](C2)C3=CC(N4CCN(C)CC4)=CC=C3[C@H]2C...</td>\n",
       "      <td>6.447332</td>\n",
       "    </tr>\n",
       "    <tr>\n",
       "      <th>646</th>\n",
       "      <td>O=C(N1[C@H](C2)C3=CC(N4CCN(C)CC4)=CC=C3[C@H]2C...</td>\n",
       "      <td>6.354578</td>\n",
       "    </tr>\n",
       "    <tr>\n",
       "      <th>647</th>\n",
       "      <td>O=C(N1[C@H](C2)C3=CC(N4CCN(CC=C)CC4)=CC=C3[C@H...</td>\n",
       "      <td>7.468521</td>\n",
       "    </tr>\n",
       "    <tr>\n",
       "      <th>648</th>\n",
       "      <td>O=C(N1[C@H](C2)C3=CC(N4CCN(CCC=C)CC4)=CC=C3[C@...</td>\n",
       "      <td>7.795880</td>\n",
       "    </tr>\n",
       "    <tr>\n",
       "      <th>649</th>\n",
       "      <td>O=C(N1[C@H](C2)C3=CC(N4CCN(C/C=C(C)\\C)CC4)=CC=...</td>\n",
       "      <td>7.638272</td>\n",
       "    </tr>\n",
       "    <tr>\n",
       "      <th>650</th>\n",
       "      <td>O=C(N1[C@H](C2)C3=CC(N4CCN(CCC(OCC)=O)CC4)=CC=...</td>\n",
       "      <td>7.790485</td>\n",
       "    </tr>\n",
       "  </tbody>\n",
       "</table>\n",
       "<p>651 rows × 2 columns</p>\n",
       "</div>"
      ],
      "text/plain": [
       "                                                SMILES     Target\n",
       "0    COC1=C(OC)C=C2CN(CCCCN3C4=CC=CC=C4C4=C3C=CC=C4...  10.397940\n",
       "1    COC1=CC2=C(CN(CCCCNC(=O)C3=CN(N=N3)C3=CC=CC=C3...   8.823909\n",
       "2                 CC1(C)CCCN(CCCCC2=CCCC3=CC=CC=C23)C1   8.958607\n",
       "3    COC1=C(OC)C=C2CN(CCCCNC(=O)C3=CC(I)=CC(OC)=C3O...   9.585027\n",
       "4    COC1=CC=C(C=C1)N1C=C(N=N1)C(=O)NCCCCN1CCC2=CC(...   8.259637\n",
       "5    COC1=CC=CC(=C1)N1C=C(N=N1)C(=O)NCCCCN1CCC2=C(C...   8.522879\n",
       "6    COC1=CC2=C(CN(CCCCNC(=O)C3=CN(CC4=CC=C(O)C=C4)...   7.935542\n",
       "7    FC1=CC=C(C=C1)C1=CC=C2OC(=O)N(CCCCN3CCN(CC3)C3...  11.214670\n",
       "8    COC1=CC=CC=C1CN1C=C(N=N1)C(=O)NCCCCN1CCC2=C(C1...   8.013228\n",
       "9    COC1=CC2=C(CN(CCCCNC(=O)C3=CN(N=N3)C3=CC=C(OCC...   7.659556\n",
       "10   COC1=C(NC(=O)OC2CC3CCCC(C2)N3CC2=CC=C(CCF)C=C2...   9.086186\n",
       "11      COC1=C(OC)C=C2CN(CCCCNC(=O)C3=CC=CC=C3)CCC2=C1   5.276544\n",
       "12            FC1=CC=C(C=C1)C1(CC2CCC1C2)NCCCOC1CCCCO1   8.259637\n",
       "13   COC1=C(OC)C=C2CN(CCCCNC(=O)C3=CC(Br)=CC(OC)=C3...   9.086186\n",
       "14   COC1=C(OC)C=C2CN(CCCCNC(=O)C3=CC(Br)=CC=C3OCCF...   9.187087\n",
       "15   COC1=C(OC)C=C2CN(CCCCNC(=O)C3=CC(Br)=CC(OC)=C3...   8.086186\n",
       "16   COC1=C(OC)C=C2CN(CCCCNC(=O)C3=CC(I)=CC=C3OCCF)...   8.974694\n",
       "17   COC1=CC(CN2C=C(N=N2)C(=O)NCCCCN2CCC3=C(C2)C=C(...   7.970616\n",
       "18   COC1=C(OC)C=C2CN(CCCCN3C=C(C4=C3C=CC=C4)C3=CC=...   8.359519\n",
       "19              C(CNC1(CC2CCC1C2)C1=CC=CC=C1)CN1CCCCC1   8.017729\n",
       "20   COC1=CC=C(CN2C=C(N=N2)C(=O)NCCN2CCC3=CC(OC)=C(...   7.030584\n",
       "21   CN1C(=O)N(CCCCN2CCN(CC2)C2=CC=C(F)C=C2)C2=CC=C...   9.337242\n",
       "22   COC1=CC2=C(CN(CCCCCCNC(=O)C3=CC4=C(O3)C=CC(I)=...   9.055517\n",
       "23   COC1=CC=C(C)C=C1C(=O)NCCN1CCC2=CC(OC)=C(OC)C=C2C1   7.876148\n",
       "24   COC1=CC2=C(CN(CCCCNC(=O)C3=CN(CC4=CC=CC(OCCF)=...   7.206908\n",
       "25   COC1=CC2=C(CN(CCCCNC(=O)C3=CN(N=N3)C3=CC=CC(OC...   7.600326\n",
       "26   COC1=CC2=C(CN(CCCCNC(=O)C3=CN(N=N3)C3=CC=CC=C3...   7.619789\n",
       "27   O=C1N(CCCCN2CCN(C3=CC=C(F)C=C3)CC2)C4=C(C=C(N=...   7.835647\n",
       "28   COC1=CC=C(CN2C=C(N=N2)C(=O)NCCCCN2CCC3=C(C2)C=...   8.301030\n",
       "29             FC1=CC=C(C=C1)C1(CC2CCC1C2)NCCCN1CCCCC1   7.795880\n",
       "..                                                 ...        ...\n",
       "621                         FC1=CC=CC(CN2C3CCC2CC3)=C1   6.600326\n",
       "622                             C(CC1=CC=CC=N1)N1CCCC1   5.792904\n",
       "623                      COC1=CC=C(CN2C3CCC2CC3)C=C1OC   7.365523\n",
       "624                              C(N1CCCC1)C1=CC=CC=C1   6.179799\n",
       "625                 BrC1=CC2=C(NC=C2CCN(CC=C)CC=C)C=C1   7.010000\n",
       "626                 COC1=CC2=C(NC=C2CCN(CC=C)CC=C)C=C1   6.600000\n",
       "627  N1(CC2=CC=CC=C2)CCN(C[C@H]3O[C@](C4=CC=CC=C4)(...   7.750000\n",
       "628  N1(CCOC(C2=CC=CC=C2)C3=CC=CC=C3)CCN(CC4=CC=CC=...   7.950000\n",
       "629  CC(C)(C(=O)OCCN1CCN(CC1)C1=CC=C(C2=NON=C12)[N+...   6.555955\n",
       "630  [O-][N+](=O)C1=CC=C(N2CCN(CCOC(=O)CC3=CC(Cl)=C...   6.405607\n",
       "631  O=C(C1(CCCCC1)C2=CC=CC=C2)OCCN3CCN(C4=CC=C([N+...   7.245652\n",
       "632  N1(C2=CC=C3C([C@@H]4N(CC5=CC=CC=C5)CC[C@H]3C4)...   5.985479\n",
       "633  ClC1=CC(Cl)=CC(CN2[C@H](C3)C4=CC(N5CCOCC5)=CC=...   7.036212\n",
       "634  FC1=CC=CC=C1CN2[C@H](C3)C4=CC(N5CCOCC5)=CC=C4[...   5.900319\n",
       "635  C(N1CC[C@H]2C[C@@H]1C1=CC(=CC=C21)N1CCCCC1)C1=...   6.497573\n",
       "636  ClC1=CC=CC(CN2CC[C@H]3C[C@@H]2C2=CC(=CC=C32)N2...   6.127261\n",
       "637  C(N1CC[C@H]2C[C@@H]1C1=CC(=CC=C21)C1=CC=C2OCOC...   6.140862\n",
       "638  FC(C1=CC=C(C2=CC=C3C([C@@H]4N(C)CC[C@H]3C4)=C2...   7.366532\n",
       "639  FC(C1=CC=C(C2=CC=C3C([C@@H]4N(CCC5=CC=CC=C5)CC...   6.779892\n",
       "640  CC1=CC(C2=CC=C3C([C@@H]4N(C)CC[C@H]3C4)=C2)=CC=C1   6.876148\n",
       "641  CC1=CC(C2=CC=C3C([C@@H]4N(CC5=CC=C(OCO6)C6=C5)...   6.081970\n",
       "642  CN1CCN(CC1)C1=CC=C2[C@@H]3C[C@@H](N(CC3)C(=O)O...   7.148742\n",
       "643  CN1CCN(C2=CC=C3C([C@@H]4N(S(=O)(C5=CC(Cl)=CC(C...   7.568636\n",
       "644  O=S(N1[C@H](C2)C3=CC(N4CCN(C)CC4)=CC=C3[C@H]2C...   6.116907\n",
       "645  O=C(N1[C@H](C2)C3=CC(N4CCN(C)CC4)=CC=C3[C@H]2C...   6.447332\n",
       "646  O=C(N1[C@H](C2)C3=CC(N4CCN(C)CC4)=CC=C3[C@H]2C...   6.354578\n",
       "647  O=C(N1[C@H](C2)C3=CC(N4CCN(CC=C)CC4)=CC=C3[C@H...   7.468521\n",
       "648  O=C(N1[C@H](C2)C3=CC(N4CCN(CCC=C)CC4)=CC=C3[C@...   7.795880\n",
       "649  O=C(N1[C@H](C2)C3=CC(N4CCN(C/C=C(C)\\C)CC4)=CC=...   7.638272\n",
       "650  O=C(N1[C@H](C2)C3=CC(N4CCN(CCC(OCC)=O)CC4)=CC=...   7.790485\n",
       "\n",
       "[651 rows x 2 columns]"
      ]
     },
     "execution_count": 46,
     "metadata": {},
     "output_type": "execute_result"
    }
   ],
   "source": [
    "Sigma2"
   ]
  },
  {
   "cell_type": "code",
   "execution_count": null,
   "metadata": {},
   "outputs": [],
   "source": []
  }
 ],
 "metadata": {
  "kernelspec": {
   "display_name": "Python 3",
   "language": "python",
   "name": "python3"
  },
  "language_info": {
   "codemirror_mode": {
    "name": "ipython",
    "version": 3
   },
   "file_extension": ".py",
   "mimetype": "text/x-python",
   "name": "python",
   "nbconvert_exporter": "python",
   "pygments_lexer": "ipython3",
   "version": "3.6.4"
  }
 },
 "nbformat": 4,
 "nbformat_minor": 1
}
