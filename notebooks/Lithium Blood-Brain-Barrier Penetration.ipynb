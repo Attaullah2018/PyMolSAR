{
 "cells": [
  {
   "cell_type": "markdown",
   "metadata": {},
   "source": [
    "# Lithium Blood-Brain-Barrier Penetration Classification"
   ]
  },
  {
   "cell_type": "markdown",
   "metadata": {},
   "source": [
    "### Imports"
   ]
  },
  {
   "cell_type": "code",
   "execution_count": 22,
   "metadata": {},
   "outputs": [],
   "source": [
    "from smdt import datasets\n",
    "from smdt import molecular_descriptors\n",
    "from smdt import classification"
   ]
  },
  {
   "cell_type": "markdown",
   "metadata": {},
   "source": [
    "### Data"
   ]
  },
  {
   "cell_type": "markdown",
   "metadata": {},
   "source": [
    "#### Data Loading"
   ]
  },
  {
   "cell_type": "code",
   "execution_count": 23,
   "metadata": {},
   "outputs": [
    {
     "name": "stdout",
     "output_type": "stream",
     "text": [
      "Reference: \n",
      "Hu Li, Chun Wei Yap, Choong Yong Ung, Ying Xue, Zhi Wei Cao and Yu Zong Chen, J. Chem. Inf. Model. 2005\n"
     ]
    }
   ],
   "source": [
    "LiBloodBarrier = datasets.load_LiBloodBarrier()"
   ]
  },
  {
   "cell_type": "markdown",
   "metadata": {},
   "source": [
    "#### Descriptor Calculation"
   ]
  },
  {
   "cell_type": "code",
   "execution_count": 24,
   "metadata": {
    "scrolled": true
   },
   "outputs": [
    {
     "name": "stdout",
     "output_type": "stream",
     "text": [
      "\n",
      "Calculating Molecular Descriptors...\n",
      "Row 387 out of 387\n",
      "Calculating Molecular Descriptors Completed.\n"
     ]
    }
   ],
   "source": [
    "data = molecular_descriptors.getAllDescriptors(LiBloodBarrier)"
   ]
  },
  {
   "cell_type": "markdown",
   "metadata": {},
   "source": [
    "#### Data Cleaning"
   ]
  },
  {
   "cell_type": "code",
   "execution_count": 25,
   "metadata": {},
   "outputs": [],
   "source": [
    "y = data['Target']\n",
    "X = data.drop(['Target'], axis=1)"
   ]
  },
  {
   "cell_type": "code",
   "execution_count": 26,
   "metadata": {},
   "outputs": [],
   "source": [
    "from sklearn.preprocessing import Imputer\n",
    "a = Imputer(missing_values='NaN', strategy='mean', axis=0)\n",
    "X = a.fit_transform(X)"
   ]
  },
  {
   "cell_type": "markdown",
   "metadata": {},
   "source": [
    "#### Train Test Split"
   ]
  },
  {
   "cell_type": "code",
   "execution_count": 27,
   "metadata": {},
   "outputs": [],
   "source": [
    "from sklearn.model_selection import train_test_split\n",
    "X_train, X_test, y_train, y_test = train_test_split(X, y, stratify=y, random_state=42)"
   ]
  },
  {
   "cell_type": "markdown",
   "metadata": {},
   "source": [
    "### Models"
   ]
  },
  {
   "cell_type": "markdown",
   "metadata": {},
   "source": [
    "#### Gaussian Naive Bayes"
   ]
  },
  {
   "cell_type": "code",
   "execution_count": 28,
   "metadata": {},
   "outputs": [
    {
     "name": "stdout",
     "output_type": "stream",
     "text": [
      "Training data GridSearchCV accuracy: 0.79655\n",
      "Testing Data Classification accuracy: 0.79381\n",
      "\n",
      "Classification Report:\n",
      "             precision    recall  f1-score   support\n",
      "\n",
      "          n       0.75      0.56      0.64        32\n",
      "          p       0.81      0.91      0.86        65\n",
      "\n",
      "avg / total       0.79      0.79      0.79        97\n",
      "\n"
     ]
    }
   ],
   "source": [
    "model1, y_pred1, y_score1 = classification.fit_GaussianNB(X_train, X_test, y_train, y_test, 29)"
   ]
  },
  {
   "cell_type": "markdown",
   "metadata": {},
   "source": [
    "#### K Nearest Neighbors"
   ]
  },
  {
   "cell_type": "code",
   "execution_count": 29,
   "metadata": {},
   "outputs": [
    {
     "name": "stdout",
     "output_type": "stream",
     "text": [
      "Training data GridSearchCV accuracy: 0.81724\n",
      "Testing Data Classification accuracy: 0.81443\n",
      "\n",
      "Classification Report:\n",
      "             precision    recall  f1-score   support\n",
      "\n",
      "          n       0.79      0.59      0.68        32\n",
      "          p       0.82      0.92      0.87        65\n",
      "\n",
      "avg / total       0.81      0.81      0.81        97\n",
      "\n"
     ]
    }
   ],
   "source": [
    "model2, y_pred2, y_score2 = classification.fit_KNearestNeighbors(X_train, X_test, y_train, y_test, 44)"
   ]
  },
  {
   "cell_type": "markdown",
   "metadata": {},
   "source": [
    "#### Linear SVC"
   ]
  },
  {
   "cell_type": "code",
   "execution_count": 30,
   "metadata": {},
   "outputs": [
    {
     "name": "stdout",
     "output_type": "stream",
     "text": [
      "Training data GridSearchCV accuracy: 0.79310\n",
      "Testing Data Classification accuracy: 0.75258\n",
      "\n",
      "Classification Report:\n",
      "             precision    recall  f1-score   support\n",
      "\n",
      "          n       0.67      0.50      0.57        32\n",
      "          p       0.78      0.88      0.83        65\n",
      "\n",
      "avg / total       0.74      0.75      0.74        97\n",
      "\n"
     ]
    }
   ],
   "source": [
    "model3, y_pred3, y_score3 = classification.fit_LinearSVC(X_train, X_test, y_train, y_test, 25)"
   ]
  },
  {
   "cell_type": "markdown",
   "metadata": {},
   "source": [
    "#### Random Forest Classifier"
   ]
  },
  {
   "cell_type": "code",
   "execution_count": 31,
   "metadata": {},
   "outputs": [
    {
     "name": "stdout",
     "output_type": "stream",
     "text": [
      "Training data GridSearchCV accuracy: 0.83448\n",
      "Testing Data Classification accuracy: 0.79381\n",
      "\n",
      "Classification Report:\n",
      "             precision    recall  f1-score   support\n",
      "\n",
      "          n       0.73      0.59      0.66        32\n",
      "          p       0.82      0.89      0.85        65\n",
      "\n",
      "avg / total       0.79      0.79      0.79        97\n",
      "\n"
     ]
    }
   ],
   "source": [
    "model4, y_pred4, y_score4 = classification.fit_RandomForestClassifier(X_train, X_test, y_train, y_test, 31)"
   ]
  },
  {
   "cell_type": "markdown",
   "metadata": {},
   "source": [
    "#### SGD Classifier"
   ]
  },
  {
   "cell_type": "code",
   "execution_count": 32,
   "metadata": {},
   "outputs": [
    {
     "name": "stdout",
     "output_type": "stream",
     "text": [
      "Training data GridSearchCV accuracy: 0.76552\n",
      "Testing Data Classification accuracy: 0.79381\n",
      "\n",
      "Classification Report:\n",
      "             precision    recall  f1-score   support\n",
      "\n",
      "          n       0.71      0.62      0.67        32\n",
      "          p       0.83      0.88      0.85        65\n",
      "\n",
      "avg / total       0.79      0.79      0.79        97\n",
      "\n"
     ]
    }
   ],
   "source": [
    "model5, y_pred5, y_score5 = classification.fit_SGDClassifier(X_train, X_test, y_train, y_test, 31)"
   ]
  },
  {
   "cell_type": "code",
   "execution_count": 63,
   "metadata": {},
   "outputs": [
    {
     "data": {
      "image/png": "[encoded data removed]",
      "text/plain": [
       "<matplotlib.figure.Figure at 0x1d613258630>"
      ]
     },
     "metadata": {},
     "output_type": "display_data"
    }
   ],
   "source": [
    "from sklearn.metrics import roc_curve, auc, precision_recall_curve, confusion_matrix\n",
    "import matplotlib.pyplot as plt\n",
    "\n",
    "fpr1, tpr1, _ = roc_curve(y_test, y_score1[:, 1], pos_label='p')\n",
    "fpr2, tpr2, _ = roc_curve(y_test, y_score2[:, 1], pos_label='p')\n",
    "fpr3, tpr3, _ = roc_curve(y_test, y_score3, pos_label='p')\n",
    "fpr4, tpr4, _ = roc_curve(y_test, y_score4[:, 1], pos_label='p')\n",
    "fpr5, tpr5, _ = roc_curve(y_test, y_score5, pos_label='p')\n",
    "\n",
    "roc_auc1 = auc(fpr1, tpr1)\n",
    "roc_auc2 = auc(fpr2, tpr2)\n",
    "roc_auc3 = auc(fpr3, tpr3)\n",
    "roc_auc4 = auc(fpr4, tpr4)\n",
    "roc_auc5 = auc(fpr5, tpr5)\n",
    "\n",
    "plt.figure(figsize=(15,5))\n",
    "plt.subplot(121)\n",
    "lw = 2\n",
    "plt.plot(fpr1, tpr1,\n",
    "         lw=lw, label='Gaussian Naive Bayes (area = %0.2f)' % roc_auc1)\n",
    "plt.plot(fpr2, tpr2,\n",
    "         lw=lw, label='K Nearest Neighbors (area = %0.2f)' % roc_auc2)\n",
    "plt.plot(fpr3, tpr3,\n",
    "         lw=lw, label='Linear SVC (area = %0.2f)' % roc_auc3)\n",
    "plt.plot(fpr4, tpr4,\n",
    "         lw=lw, label='Random Forest Classifier (area = %0.2f)' % roc_auc4)\n",
    "plt.plot(fpr5, tpr5,\n",
    "         lw=lw, label='SGD Classifier (area = %0.2f)' % roc_auc5)\n",
    "\n",
    "plt.plot([0, 1], [0, 1], color='navy', lw=lw, linestyle='--')\n",
    "plt.xlim([0.0, 1.0])\n",
    "plt.ylim([0.0, 1.05])\n",
    "plt.xlabel('False Positive Rate')\n",
    "plt.ylabel('True Positive Rate')\n",
    "plt.title('Receiver Operating Characteristic')\n",
    "plt.legend(loc=\"lower right\")\n",
    "\n",
    "plt.subplot(122)\n",
    "precision1, recall1, _ = precision_recall_curve(y_test, y_score1[:,1], pos_label='p')\n",
    "precision2, recall2, _ = precision_recall_curve(y_test, y_score2[:,1], pos_label='p')\n",
    "precision3, recall3, _ = precision_recall_curve(y_test, y_score3, pos_label='p')\n",
    "precision4, recall4, _ = precision_recall_curve(y_test, y_score4[:,1], pos_label='p')\n",
    "precision5, recall5, _ = precision_recall_curve(y_test, y_score5, pos_label='p')\n",
    "\n",
    "plt.step(recall1, precision1, label='Gaussian Naive Bayes',\n",
    "         where='post')\n",
    "plt.step(recall2, precision2, label='K Nearest Neighbors',\n",
    "         where='post')\n",
    "plt.step(recall3, precision3, label='Linear SVC',\n",
    "         where='post')\n",
    "plt.step(recall4, precision4, label='Random Forest Classifier',\n",
    "         where='post')\n",
    "plt.step(recall5, precision5, label='SGD Classifier',\n",
    "         where='post')\n",
    "\n",
    "#plt.fill_between(recall, precision, step='post', alpha=0.2,\n",
    "#                 color='b')\n",
    "\n",
    "plt.xlabel('Recall')\n",
    "plt.ylabel('Precision')\n",
    "plt.ylim([0.0, 1.05])\n",
    "plt.xlim([0.0, 1.0])\n",
    "plt.title('Precision-Recall Curve')\n",
    "plt.legend(loc=\"lower right\")\n",
    "\n",
    "plt.show()"
   ]
  },
  {
   "cell_type": "code",
   "execution_count": 109,
   "metadata": {},
   "outputs": [
    {
     "data": {
      "image/png": "[encoded data removed]",
      "text/plain": [
       "<matplotlib.figure.Figure at 0x1d614fa2390>"
      ]
     },
     "metadata": {},
     "output_type": "display_data"
    }
   ],
   "source": [
    "import itertools\n",
    "import numpy as np\n",
    "\n",
    "def plot_confusion_matrix(cm, classes,\n",
    "                          normalize=False,\n",
    "                          title='Confusion matrix',\n",
    "                          cmap=plt.cm.Blues):\n",
    "    \"\"\"\n",
    "    This function prints and plots the confusion matrix.\n",
    "    Normalization can be applied by setting `normalize=True`.\n",
    "    \"\"\"\n",
    "    plt.imshow(cm, interpolation='nearest', cmap=cmap)\n",
    "    plt.title(title)\n",
    "    tick_marks = np.arange(len(classes))\n",
    "    plt.xticks(tick_marks, classes, rotation=45)\n",
    "    plt.yticks(tick_marks, classes)\n",
    "\n",
    "    fmt = '.2f' if normalize else 'd'\n",
    "    thresh = cm.max() / 2.\n",
    "    for i, j in itertools.product(range(cm.shape[0]), range(cm.shape[1])):\n",
    "        plt.text(j, i, format(cm[i, j], fmt),\n",
    "                 horizontalalignment=\"center\",\n",
    "                 color=\"white\" if cm[i, j] > thresh else \"black\")\n",
    "\n",
    "    plt.tight_layout()\n",
    "    plt.ylabel('True label')\n",
    "    plt.xlabel('Predicted label')\n",
    "\n",
    "# Compute confusion matrix\n",
    "cnf_matrix1 = confusion_matrix(y_test, y_pred1)\n",
    "cnf_matrix2 = confusion_matrix(y_test, y_pred2)\n",
    "cnf_matrix3 = confusion_matrix(y_test, y_pred3)\n",
    "cnf_matrix4 = confusion_matrix(y_test, y_pred4)\n",
    "cnf_matrix5 = confusion_matrix(y_test, y_pred5)\n",
    "\n",
    "np.set_printoptions(precision=2)\n",
    "\n",
    "plt.figure(figsize=(12,10))\n",
    "plt.subplot(151)\n",
    "plot_confusion_matrix(cnf_matrix1, classes=y.unique(),\n",
    "                      title='Gaussian Naive Bayes')\n",
    "plt.subplot(152)\n",
    "plot_confusion_matrix(cnf_matrix2, classes=y.unique(),\n",
    "                      title='K Nearest Neighbors')\n",
    "plt.subplot(153)\n",
    "plot_confusion_matrix(cnf_matrix3, classes=y.unique(),\n",
    "                      title='Linear SVC')\n",
    "plt.subplot(154)\n",
    "plot_confusion_matrix(cnf_matrix4, classes=y.unique(),\n",
    "                      title='Random Forest Classifier')\n",
    "plt.subplot(155)\n",
    "plot_confusion_matrix(cnf_matrix5, classes=y.unique(),\n",
    "                      title='SGD Classifier')\n",
    "\n",
    "plt.show()"
   ]
  }
 ],
 "metadata": {
  "kernelspec": {
   "display_name": "Python 3",
   "language": "python",
   "name": "python3"
  },
  "language_info": {
   "codemirror_mode": {
    "name": "ipython",
    "version": 3.0
   },
   "file_extension": ".py",
   "mimetype": "text/x-python",
   "name": "python",
   "nbconvert_exporter": "python",
   "pygments_lexer": "ipython3",
   "version": "3.6.4"
  }
 },
 "nbformat": 4,
 "nbformat_minor": 0
}